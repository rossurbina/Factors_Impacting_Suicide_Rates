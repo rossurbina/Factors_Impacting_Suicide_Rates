{
 "cells": [
  {
   "cell_type": "markdown",
   "metadata": {},
   "source": [
    "# <div align=center>Regression Analysis and Correlators for Suicide Rates</div>"
   ]
  },
  {
   "cell_type": "markdown",
   "metadata": {},
   "source": [
    "### Prep Work\n",
    "#### Download the following files at these web addresses:\n",
    "1) WHO Suicides Rates: https://www.kaggle.com/szamil/who-suicide-statistics\n",
    "\n",
    "2) UNData Country Statistics: https://www.kaggle.com/sudalairajkumar/undata-country-profiles\n",
    "\n",
    "3) World happiness scores: https://www.kaggle.com/unsdsn/world-happiness\n"
   ]
  },
  {
   "cell_type": "markdown",
   "metadata": {},
   "source": [
    "### Extract all the data into Jupyter notebook"
   ]
  },
  {
   "cell_type": "markdown",
   "metadata": {},
   "source": [
    "Import the needed libraries"
   ]
  },
  {
   "cell_type": "code",
   "execution_count": 1,
   "metadata": {},
   "outputs": [],
   "source": [
    "from IPython.core.interactiveshell import InteractiveShell\n",
    "InteractiveShell.ast_node_interactivity = \"all\"\n",
    "\n",
    "import pandas as pd\n",
    "import numpy as np\n",
    "import seaborn as sns"
   ]
  },
  {
   "cell_type": "markdown",
   "metadata": {},
   "source": [
    "Import all our data into dataframes (3 total)"
   ]
  },
  {
   "cell_type": "code",
   "execution_count": 2,
   "metadata": {},
   "outputs": [],
   "source": [
    "happy = pd.read_csv('Happiness_Scores_2016.csv')\n",
    "suicide = pd.read_csv('who_suicide_statistics.csv')\n",
    "undata = pd.read_csv('country_profile_variables.csv')"
   ]
  },
  {
   "cell_type": "markdown",
   "metadata": {},
   "source": [
    "### Clean Data "
   ]
  },
  {
   "cell_type": "markdown",
   "metadata": {},
   "source": [
    "change the name of happy's country to lowercase to work easier together"
   ]
  },
  {
   "cell_type": "code",
   "execution_count": 3,
   "metadata": {},
   "outputs": [],
   "source": [
    "happy.rename(columns={'Country':'country'}, inplace=True)"
   ]
  },
  {
   "cell_type": "markdown",
   "metadata": {},
   "source": [
    "set all of the indexes to be country"
   ]
  },
  {
   "cell_type": "code",
   "execution_count": 4,
   "metadata": {},
   "outputs": [],
   "source": [
    "happy = happy.set_index('country')\n",
    "suicide = suicide.set_index('country')\n",
    "undata = undata.set_index('country')"
   ]
  },
  {
   "cell_type": "markdown",
   "metadata": {},
   "source": [
    "Create a new df to get just the 2015 values"
   ]
  },
  {
   "cell_type": "code",
   "execution_count": 5,
   "metadata": {},
   "outputs": [],
   "source": [
    "suicide = suicide[suicide.year == 2015]"
   ]
  },
  {
   "cell_type": "code",
   "execution_count": 6,
   "metadata": {},
   "outputs": [
    {
     "data": {
      "text/html": [
       "<div>\n",
       "<style scoped>\n",
       "    .dataframe tbody tr th:only-of-type {\n",
       "        vertical-align: middle;\n",
       "    }\n",
       "\n",
       "    .dataframe tbody tr th {\n",
       "        vertical-align: top;\n",
       "    }\n",
       "\n",
       "    .dataframe thead th {\n",
       "        text-align: right;\n",
       "    }\n",
       "</style>\n",
       "<table border=\"1\" class=\"dataframe\">\n",
       "  <thead>\n",
       "    <tr style=\"text-align: right;\">\n",
       "      <th></th>\n",
       "      <th>year</th>\n",
       "      <th>sex</th>\n",
       "      <th>age</th>\n",
       "      <th>suicides_no</th>\n",
       "      <th>population</th>\n",
       "    </tr>\n",
       "    <tr>\n",
       "      <th>country</th>\n",
       "      <th></th>\n",
       "      <th></th>\n",
       "      <th></th>\n",
       "      <th></th>\n",
       "      <th></th>\n",
       "    </tr>\n",
       "  </thead>\n",
       "  <tbody>\n",
       "    <tr>\n",
       "      <th>Albania</th>\n",
       "      <td>2015</td>\n",
       "      <td>female</td>\n",
       "      <td>15-24 years</td>\n",
       "      <td>NaN</td>\n",
       "      <td>212324.0</td>\n",
       "    </tr>\n",
       "    <tr>\n",
       "      <th>Albania</th>\n",
       "      <td>2015</td>\n",
       "      <td>female</td>\n",
       "      <td>25-34 years</td>\n",
       "      <td>NaN</td>\n",
       "      <td>199024.0</td>\n",
       "    </tr>\n",
       "    <tr>\n",
       "      <th>Albania</th>\n",
       "      <td>2015</td>\n",
       "      <td>female</td>\n",
       "      <td>35-54 years</td>\n",
       "      <td>NaN</td>\n",
       "      <td>400275.0</td>\n",
       "    </tr>\n",
       "    <tr>\n",
       "      <th>Albania</th>\n",
       "      <td>2015</td>\n",
       "      <td>female</td>\n",
       "      <td>5-14 years</td>\n",
       "      <td>NaN</td>\n",
       "      <td>168140.0</td>\n",
       "    </tr>\n",
       "    <tr>\n",
       "      <th>Albania</th>\n",
       "      <td>2015</td>\n",
       "      <td>female</td>\n",
       "      <td>55-74 years</td>\n",
       "      <td>NaN</td>\n",
       "      <td>289055.0</td>\n",
       "    </tr>\n",
       "    <tr>\n",
       "      <th>...</th>\n",
       "      <td>...</td>\n",
       "      <td>...</td>\n",
       "      <td>...</td>\n",
       "      <td>...</td>\n",
       "      <td>...</td>\n",
       "    </tr>\n",
       "    <tr>\n",
       "      <th>Virgin Islands (USA)</th>\n",
       "      <td>2015</td>\n",
       "      <td>male</td>\n",
       "      <td>25-34 years</td>\n",
       "      <td>2.0</td>\n",
       "      <td>4609.0</td>\n",
       "    </tr>\n",
       "    <tr>\n",
       "      <th>Virgin Islands (USA)</th>\n",
       "      <td>2015</td>\n",
       "      <td>male</td>\n",
       "      <td>35-54 years</td>\n",
       "      <td>1.0</td>\n",
       "      <td>12516.0</td>\n",
       "    </tr>\n",
       "    <tr>\n",
       "      <th>Virgin Islands (USA)</th>\n",
       "      <td>2015</td>\n",
       "      <td>male</td>\n",
       "      <td>5-14 years</td>\n",
       "      <td>0.0</td>\n",
       "      <td>7291.0</td>\n",
       "    </tr>\n",
       "    <tr>\n",
       "      <th>Virgin Islands (USA)</th>\n",
       "      <td>2015</td>\n",
       "      <td>male</td>\n",
       "      <td>55-74 years</td>\n",
       "      <td>0.0</td>\n",
       "      <td>12615.0</td>\n",
       "    </tr>\n",
       "    <tr>\n",
       "      <th>Virgin Islands (USA)</th>\n",
       "      <td>2015</td>\n",
       "      <td>male</td>\n",
       "      <td>75+ years</td>\n",
       "      <td>0.0</td>\n",
       "      <td>2496.0</td>\n",
       "    </tr>\n",
       "  </tbody>\n",
       "</table>\n",
       "<p>960 rows × 5 columns</p>\n",
       "</div>"
      ],
      "text/plain": [
       "                      year     sex          age  suicides_no  population\n",
       "country                                                                 \n",
       "Albania               2015  female  15-24 years          NaN    212324.0\n",
       "Albania               2015  female  25-34 years          NaN    199024.0\n",
       "Albania               2015  female  35-54 years          NaN    400275.0\n",
       "Albania               2015  female   5-14 years          NaN    168140.0\n",
       "Albania               2015  female  55-74 years          NaN    289055.0\n",
       "...                    ...     ...          ...          ...         ...\n",
       "Virgin Islands (USA)  2015    male  25-34 years          2.0      4609.0\n",
       "Virgin Islands (USA)  2015    male  35-54 years          1.0     12516.0\n",
       "Virgin Islands (USA)  2015    male   5-14 years          0.0      7291.0\n",
       "Virgin Islands (USA)  2015    male  55-74 years          0.0     12615.0\n",
       "Virgin Islands (USA)  2015    male    75+ years          0.0      2496.0\n",
       "\n",
       "[960 rows x 5 columns]"
      ]
     },
     "execution_count": 6,
     "metadata": {},
     "output_type": "execute_result"
    }
   ],
   "source": [
    "suicide"
   ]
  },
  {
   "cell_type": "markdown",
   "metadata": {},
   "source": [
    "Use dummy variables so we can get binary variables for their age range and sex"
   ]
  },
  {
   "cell_type": "code",
   "execution_count": 7,
   "metadata": {},
   "outputs": [],
   "source": [
    "dumDF = pd.get_dummies(suicide, columns=['sex'])"
   ]
  },
  {
   "cell_type": "code",
   "execution_count": 8,
   "metadata": {},
   "outputs": [],
   "source": [
    "dum = pd.get_dummies(dumDF, columns=['age'])"
   ]
  },
  {
   "cell_type": "markdown",
   "metadata": {},
   "source": [
    "Drop the male category since it is unneeded (it's the opposite of female category)"
   ]
  },
  {
   "cell_type": "code",
   "execution_count": 9,
   "metadata": {},
   "outputs": [],
   "source": [
    "dum.drop('sex_male', axis = 1, inplace=True)"
   ]
  },
  {
   "cell_type": "code",
   "execution_count": 10,
   "metadata": {},
   "outputs": [
    {
     "data": {
      "text/html": [
       "<div>\n",
       "<style scoped>\n",
       "    .dataframe tbody tr th:only-of-type {\n",
       "        vertical-align: middle;\n",
       "    }\n",
       "\n",
       "    .dataframe tbody tr th {\n",
       "        vertical-align: top;\n",
       "    }\n",
       "\n",
       "    .dataframe thead th {\n",
       "        text-align: right;\n",
       "    }\n",
       "</style>\n",
       "<table border=\"1\" class=\"dataframe\">\n",
       "  <thead>\n",
       "    <tr style=\"text-align: right;\">\n",
       "      <th></th>\n",
       "      <th>year</th>\n",
       "      <th>suicides_no</th>\n",
       "      <th>population</th>\n",
       "      <th>sex_female</th>\n",
       "      <th>age_15-24 years</th>\n",
       "      <th>age_25-34 years</th>\n",
       "      <th>age_35-54 years</th>\n",
       "      <th>age_5-14 years</th>\n",
       "      <th>age_55-74 years</th>\n",
       "      <th>age_75+ years</th>\n",
       "    </tr>\n",
       "    <tr>\n",
       "      <th>country</th>\n",
       "      <th></th>\n",
       "      <th></th>\n",
       "      <th></th>\n",
       "      <th></th>\n",
       "      <th></th>\n",
       "      <th></th>\n",
       "      <th></th>\n",
       "      <th></th>\n",
       "      <th></th>\n",
       "      <th></th>\n",
       "    </tr>\n",
       "  </thead>\n",
       "  <tbody>\n",
       "    <tr>\n",
       "      <th>Albania</th>\n",
       "      <td>2015</td>\n",
       "      <td>NaN</td>\n",
       "      <td>212324.0</td>\n",
       "      <td>1</td>\n",
       "      <td>1</td>\n",
       "      <td>0</td>\n",
       "      <td>0</td>\n",
       "      <td>0</td>\n",
       "      <td>0</td>\n",
       "      <td>0</td>\n",
       "    </tr>\n",
       "    <tr>\n",
       "      <th>Albania</th>\n",
       "      <td>2015</td>\n",
       "      <td>NaN</td>\n",
       "      <td>199024.0</td>\n",
       "      <td>1</td>\n",
       "      <td>0</td>\n",
       "      <td>1</td>\n",
       "      <td>0</td>\n",
       "      <td>0</td>\n",
       "      <td>0</td>\n",
       "      <td>0</td>\n",
       "    </tr>\n",
       "    <tr>\n",
       "      <th>Albania</th>\n",
       "      <td>2015</td>\n",
       "      <td>NaN</td>\n",
       "      <td>400275.0</td>\n",
       "      <td>1</td>\n",
       "      <td>0</td>\n",
       "      <td>0</td>\n",
       "      <td>1</td>\n",
       "      <td>0</td>\n",
       "      <td>0</td>\n",
       "      <td>0</td>\n",
       "    </tr>\n",
       "    <tr>\n",
       "      <th>Albania</th>\n",
       "      <td>2015</td>\n",
       "      <td>NaN</td>\n",
       "      <td>168140.0</td>\n",
       "      <td>1</td>\n",
       "      <td>0</td>\n",
       "      <td>0</td>\n",
       "      <td>0</td>\n",
       "      <td>1</td>\n",
       "      <td>0</td>\n",
       "      <td>0</td>\n",
       "    </tr>\n",
       "    <tr>\n",
       "      <th>Albania</th>\n",
       "      <td>2015</td>\n",
       "      <td>NaN</td>\n",
       "      <td>289055.0</td>\n",
       "      <td>1</td>\n",
       "      <td>0</td>\n",
       "      <td>0</td>\n",
       "      <td>0</td>\n",
       "      <td>0</td>\n",
       "      <td>1</td>\n",
       "      <td>0</td>\n",
       "    </tr>\n",
       "    <tr>\n",
       "      <th>...</th>\n",
       "      <td>...</td>\n",
       "      <td>...</td>\n",
       "      <td>...</td>\n",
       "      <td>...</td>\n",
       "      <td>...</td>\n",
       "      <td>...</td>\n",
       "      <td>...</td>\n",
       "      <td>...</td>\n",
       "      <td>...</td>\n",
       "      <td>...</td>\n",
       "    </tr>\n",
       "    <tr>\n",
       "      <th>Virgin Islands (USA)</th>\n",
       "      <td>2015</td>\n",
       "      <td>2.0</td>\n",
       "      <td>4609.0</td>\n",
       "      <td>0</td>\n",
       "      <td>0</td>\n",
       "      <td>1</td>\n",
       "      <td>0</td>\n",
       "      <td>0</td>\n",
       "      <td>0</td>\n",
       "      <td>0</td>\n",
       "    </tr>\n",
       "    <tr>\n",
       "      <th>Virgin Islands (USA)</th>\n",
       "      <td>2015</td>\n",
       "      <td>1.0</td>\n",
       "      <td>12516.0</td>\n",
       "      <td>0</td>\n",
       "      <td>0</td>\n",
       "      <td>0</td>\n",
       "      <td>1</td>\n",
       "      <td>0</td>\n",
       "      <td>0</td>\n",
       "      <td>0</td>\n",
       "    </tr>\n",
       "    <tr>\n",
       "      <th>Virgin Islands (USA)</th>\n",
       "      <td>2015</td>\n",
       "      <td>0.0</td>\n",
       "      <td>7291.0</td>\n",
       "      <td>0</td>\n",
       "      <td>0</td>\n",
       "      <td>0</td>\n",
       "      <td>0</td>\n",
       "      <td>1</td>\n",
       "      <td>0</td>\n",
       "      <td>0</td>\n",
       "    </tr>\n",
       "    <tr>\n",
       "      <th>Virgin Islands (USA)</th>\n",
       "      <td>2015</td>\n",
       "      <td>0.0</td>\n",
       "      <td>12615.0</td>\n",
       "      <td>0</td>\n",
       "      <td>0</td>\n",
       "      <td>0</td>\n",
       "      <td>0</td>\n",
       "      <td>0</td>\n",
       "      <td>1</td>\n",
       "      <td>0</td>\n",
       "    </tr>\n",
       "    <tr>\n",
       "      <th>Virgin Islands (USA)</th>\n",
       "      <td>2015</td>\n",
       "      <td>0.0</td>\n",
       "      <td>2496.0</td>\n",
       "      <td>0</td>\n",
       "      <td>0</td>\n",
       "      <td>0</td>\n",
       "      <td>0</td>\n",
       "      <td>0</td>\n",
       "      <td>0</td>\n",
       "      <td>1</td>\n",
       "    </tr>\n",
       "  </tbody>\n",
       "</table>\n",
       "<p>960 rows × 10 columns</p>\n",
       "</div>"
      ],
      "text/plain": [
       "                      year  suicides_no  population  sex_female  \\\n",
       "country                                                           \n",
       "Albania               2015          NaN    212324.0           1   \n",
       "Albania               2015          NaN    199024.0           1   \n",
       "Albania               2015          NaN    400275.0           1   \n",
       "Albania               2015          NaN    168140.0           1   \n",
       "Albania               2015          NaN    289055.0           1   \n",
       "...                    ...          ...         ...         ...   \n",
       "Virgin Islands (USA)  2015          2.0      4609.0           0   \n",
       "Virgin Islands (USA)  2015          1.0     12516.0           0   \n",
       "Virgin Islands (USA)  2015          0.0      7291.0           0   \n",
       "Virgin Islands (USA)  2015          0.0     12615.0           0   \n",
       "Virgin Islands (USA)  2015          0.0      2496.0           0   \n",
       "\n",
       "                      age_15-24 years  age_25-34 years  age_35-54 years  \\\n",
       "country                                                                   \n",
       "Albania                             1                0                0   \n",
       "Albania                             0                1                0   \n",
       "Albania                             0                0                1   \n",
       "Albania                             0                0                0   \n",
       "Albania                             0                0                0   \n",
       "...                               ...              ...              ...   \n",
       "Virgin Islands (USA)                0                1                0   \n",
       "Virgin Islands (USA)                0                0                1   \n",
       "Virgin Islands (USA)                0                0                0   \n",
       "Virgin Islands (USA)                0                0                0   \n",
       "Virgin Islands (USA)                0                0                0   \n",
       "\n",
       "                      age_5-14 years  age_55-74 years  age_75+ years  \n",
       "country                                                               \n",
       "Albania                            0                0              0  \n",
       "Albania                            0                0              0  \n",
       "Albania                            0                0              0  \n",
       "Albania                            1                0              0  \n",
       "Albania                            0                1              0  \n",
       "...                              ...              ...            ...  \n",
       "Virgin Islands (USA)               0                0              0  \n",
       "Virgin Islands (USA)               0                0              0  \n",
       "Virgin Islands (USA)               1                0              0  \n",
       "Virgin Islands (USA)               0                1              0  \n",
       "Virgin Islands (USA)               0                0              1  \n",
       "\n",
       "[960 rows x 10 columns]"
      ]
     },
     "execution_count": 10,
     "metadata": {},
     "output_type": "execute_result"
    }
   ],
   "source": [
    "dum"
   ]
  },
  {
   "cell_type": "markdown",
   "metadata": {},
   "source": [
    "There is a lot of countries where there is NaN or 0 values for the suicides_no or population, which leaves us with unneeded data points. Therefore, we created a new df without them"
   ]
  },
  {
   "cell_type": "code",
   "execution_count": 11,
   "metadata": {},
   "outputs": [],
   "source": [
    "df = dum[(dum.suicides_no.isna() == 0) & (dum.population.isna() == 0) & \\\n",
    "    (dum.suicides_no != 0.0) & (dum.population != 0.0)]"
   ]
  },
  {
   "cell_type": "code",
   "execution_count": 12,
   "metadata": {
    "scrolled": true
   },
   "outputs": [
    {
     "data": {
      "text/html": [
       "<div>\n",
       "<style scoped>\n",
       "    .dataframe tbody tr th:only-of-type {\n",
       "        vertical-align: middle;\n",
       "    }\n",
       "\n",
       "    .dataframe tbody tr th {\n",
       "        vertical-align: top;\n",
       "    }\n",
       "\n",
       "    .dataframe thead th {\n",
       "        text-align: right;\n",
       "    }\n",
       "</style>\n",
       "<table border=\"1\" class=\"dataframe\">\n",
       "  <thead>\n",
       "    <tr style=\"text-align: right;\">\n",
       "      <th></th>\n",
       "      <th>year</th>\n",
       "      <th>suicides_no</th>\n",
       "      <th>population</th>\n",
       "      <th>sex_female</th>\n",
       "      <th>age_15-24 years</th>\n",
       "      <th>age_25-34 years</th>\n",
       "      <th>age_35-54 years</th>\n",
       "      <th>age_5-14 years</th>\n",
       "      <th>age_55-74 years</th>\n",
       "      <th>age_75+ years</th>\n",
       "    </tr>\n",
       "    <tr>\n",
       "      <th>country</th>\n",
       "      <th></th>\n",
       "      <th></th>\n",
       "      <th></th>\n",
       "      <th></th>\n",
       "      <th></th>\n",
       "      <th></th>\n",
       "      <th></th>\n",
       "      <th></th>\n",
       "      <th></th>\n",
       "      <th></th>\n",
       "    </tr>\n",
       "  </thead>\n",
       "  <tbody>\n",
       "    <tr>\n",
       "      <th>Antigua and Barbuda</th>\n",
       "      <td>2015</td>\n",
       "      <td>1.0</td>\n",
       "      <td>6403.0</td>\n",
       "      <td>1</td>\n",
       "      <td>0</td>\n",
       "      <td>0</td>\n",
       "      <td>0</td>\n",
       "      <td>0</td>\n",
       "      <td>1</td>\n",
       "      <td>0</td>\n",
       "    </tr>\n",
       "    <tr>\n",
       "      <th>Argentina</th>\n",
       "      <td>2015</td>\n",
       "      <td>153.0</td>\n",
       "      <td>3394201.0</td>\n",
       "      <td>1</td>\n",
       "      <td>1</td>\n",
       "      <td>0</td>\n",
       "      <td>0</td>\n",
       "      <td>0</td>\n",
       "      <td>0</td>\n",
       "      <td>0</td>\n",
       "    </tr>\n",
       "    <tr>\n",
       "      <th>Argentina</th>\n",
       "      <td>2015</td>\n",
       "      <td>114.0</td>\n",
       "      <td>3235582.0</td>\n",
       "      <td>1</td>\n",
       "      <td>0</td>\n",
       "      <td>1</td>\n",
       "      <td>0</td>\n",
       "      <td>0</td>\n",
       "      <td>0</td>\n",
       "      <td>0</td>\n",
       "    </tr>\n",
       "    <tr>\n",
       "      <th>Argentina</th>\n",
       "      <td>2015</td>\n",
       "      <td>166.0</td>\n",
       "      <td>5301368.0</td>\n",
       "      <td>1</td>\n",
       "      <td>0</td>\n",
       "      <td>0</td>\n",
       "      <td>1</td>\n",
       "      <td>0</td>\n",
       "      <td>0</td>\n",
       "      <td>0</td>\n",
       "    </tr>\n",
       "    <tr>\n",
       "      <th>Argentina</th>\n",
       "      <td>2015</td>\n",
       "      <td>19.0</td>\n",
       "      <td>3549219.0</td>\n",
       "      <td>1</td>\n",
       "      <td>0</td>\n",
       "      <td>0</td>\n",
       "      <td>0</td>\n",
       "      <td>1</td>\n",
       "      <td>0</td>\n",
       "      <td>0</td>\n",
       "    </tr>\n",
       "    <tr>\n",
       "      <th>...</th>\n",
       "      <td>...</td>\n",
       "      <td>...</td>\n",
       "      <td>...</td>\n",
       "      <td>...</td>\n",
       "      <td>...</td>\n",
       "      <td>...</td>\n",
       "      <td>...</td>\n",
       "      <td>...</td>\n",
       "      <td>...</td>\n",
       "      <td>...</td>\n",
       "    </tr>\n",
       "    <tr>\n",
       "      <th>Uruguay</th>\n",
       "      <td>2015</td>\n",
       "      <td>3.0</td>\n",
       "      <td>252509.0</td>\n",
       "      <td>0</td>\n",
       "      <td>0</td>\n",
       "      <td>0</td>\n",
       "      <td>0</td>\n",
       "      <td>1</td>\n",
       "      <td>0</td>\n",
       "      <td>0</td>\n",
       "    </tr>\n",
       "    <tr>\n",
       "      <th>Uruguay</th>\n",
       "      <td>2015</td>\n",
       "      <td>133.0</td>\n",
       "      <td>277870.0</td>\n",
       "      <td>0</td>\n",
       "      <td>0</td>\n",
       "      <td>0</td>\n",
       "      <td>0</td>\n",
       "      <td>0</td>\n",
       "      <td>1</td>\n",
       "      <td>0</td>\n",
       "    </tr>\n",
       "    <tr>\n",
       "      <th>Uruguay</th>\n",
       "      <td>2015</td>\n",
       "      <td>58.0</td>\n",
       "      <td>78996.0</td>\n",
       "      <td>0</td>\n",
       "      <td>0</td>\n",
       "      <td>0</td>\n",
       "      <td>0</td>\n",
       "      <td>0</td>\n",
       "      <td>0</td>\n",
       "      <td>1</td>\n",
       "    </tr>\n",
       "    <tr>\n",
       "      <th>Virgin Islands (USA)</th>\n",
       "      <td>2015</td>\n",
       "      <td>2.0</td>\n",
       "      <td>4609.0</td>\n",
       "      <td>0</td>\n",
       "      <td>0</td>\n",
       "      <td>1</td>\n",
       "      <td>0</td>\n",
       "      <td>0</td>\n",
       "      <td>0</td>\n",
       "      <td>0</td>\n",
       "    </tr>\n",
       "    <tr>\n",
       "      <th>Virgin Islands (USA)</th>\n",
       "      <td>2015</td>\n",
       "      <td>1.0</td>\n",
       "      <td>12516.0</td>\n",
       "      <td>0</td>\n",
       "      <td>0</td>\n",
       "      <td>0</td>\n",
       "      <td>1</td>\n",
       "      <td>0</td>\n",
       "      <td>0</td>\n",
       "      <td>0</td>\n",
       "    </tr>\n",
       "  </tbody>\n",
       "</table>\n",
       "<p>723 rows × 10 columns</p>\n",
       "</div>"
      ],
      "text/plain": [
       "                      year  suicides_no  population  sex_female  \\\n",
       "country                                                           \n",
       "Antigua and Barbuda   2015          1.0      6403.0           1   \n",
       "Argentina             2015        153.0   3394201.0           1   \n",
       "Argentina             2015        114.0   3235582.0           1   \n",
       "Argentina             2015        166.0   5301368.0           1   \n",
       "Argentina             2015         19.0   3549219.0           1   \n",
       "...                    ...          ...         ...         ...   \n",
       "Uruguay               2015          3.0    252509.0           0   \n",
       "Uruguay               2015        133.0    277870.0           0   \n",
       "Uruguay               2015         58.0     78996.0           0   \n",
       "Virgin Islands (USA)  2015          2.0      4609.0           0   \n",
       "Virgin Islands (USA)  2015          1.0     12516.0           0   \n",
       "\n",
       "                      age_15-24 years  age_25-34 years  age_35-54 years  \\\n",
       "country                                                                   \n",
       "Antigua and Barbuda                 0                0                0   \n",
       "Argentina                           1                0                0   \n",
       "Argentina                           0                1                0   \n",
       "Argentina                           0                0                1   \n",
       "Argentina                           0                0                0   \n",
       "...                               ...              ...              ...   \n",
       "Uruguay                             0                0                0   \n",
       "Uruguay                             0                0                0   \n",
       "Uruguay                             0                0                0   \n",
       "Virgin Islands (USA)                0                1                0   \n",
       "Virgin Islands (USA)                0                0                1   \n",
       "\n",
       "                      age_5-14 years  age_55-74 years  age_75+ years  \n",
       "country                                                               \n",
       "Antigua and Barbuda                0                1              0  \n",
       "Argentina                          0                0              0  \n",
       "Argentina                          0                0              0  \n",
       "Argentina                          0                0              0  \n",
       "Argentina                          1                0              0  \n",
       "...                              ...              ...            ...  \n",
       "Uruguay                            1                0              0  \n",
       "Uruguay                            0                1              0  \n",
       "Uruguay                            0                0              1  \n",
       "Virgin Islands (USA)               0                0              0  \n",
       "Virgin Islands (USA)               0                0              0  \n",
       "\n",
       "[723 rows x 10 columns]"
      ]
     },
     "execution_count": 12,
     "metadata": {},
     "output_type": "execute_result"
    }
   ],
   "source": [
    "df"
   ]
  },
  {
   "cell_type": "markdown",
   "metadata": {},
   "source": [
    "Create a new attribute that finds the suicide rate dividing suicides number by population, then drop the suicides_no and population attributes"
   ]
  },
  {
   "cell_type": "code",
   "execution_count": 13,
   "metadata": {},
   "outputs": [
    {
     "name": "stderr",
     "output_type": "stream",
     "text": [
      "/Users/rossurbina/.conda/envs/ENVIRONMENT/lib/python3.7/site-packages/ipykernel_launcher.py:1: SettingWithCopyWarning: \n",
      "A value is trying to be set on a copy of a slice from a DataFrame.\n",
      "Try using .loc[row_indexer,col_indexer] = value instead\n",
      "\n",
      "See the caveats in the documentation: https://pandas.pydata.org/pandas-docs/stable/user_guide/indexing.html#returning-a-view-versus-a-copy\n",
      "  \"\"\"Entry point for launching an IPython kernel.\n"
     ]
    }
   ],
   "source": [
    "df['suicides_per_100k'] = (df.suicides_no / df.population) * 100000"
   ]
  },
  {
   "cell_type": "code",
   "execution_count": 14,
   "metadata": {},
   "outputs": [
    {
     "name": "stderr",
     "output_type": "stream",
     "text": [
      "/Users/rossurbina/.conda/envs/ENVIRONMENT/lib/python3.7/site-packages/pandas/core/frame.py:4174: SettingWithCopyWarning: \n",
      "A value is trying to be set on a copy of a slice from a DataFrame\n",
      "\n",
      "See the caveats in the documentation: https://pandas.pydata.org/pandas-docs/stable/user_guide/indexing.html#returning-a-view-versus-a-copy\n",
      "  errors=errors,\n"
     ]
    }
   ],
   "source": [
    "df.drop(['suicides_no','population','year'], axis = 1, inplace=True)"
   ]
  },
  {
   "cell_type": "markdown",
   "metadata": {},
   "source": [
    "Rank the ages in 6 categories, with the lowest value of 1 being the youngest group and the highest value of 6 being the oldest group. Then, drop the other columns to put them all under 1 attribute. This is to easily coompare all ages rather than one at a time"
   ]
  },
  {
   "cell_type": "code",
   "execution_count": 15,
   "metadata": {},
   "outputs": [
    {
     "name": "stderr",
     "output_type": "stream",
     "text": [
      "/Users/rossurbina/.conda/envs/ENVIRONMENT/lib/python3.7/site-packages/pandas/core/indexing.py:1596: SettingWithCopyWarning: \n",
      "A value is trying to be set on a copy of a slice from a DataFrame.\n",
      "Try using .loc[row_indexer,col_indexer] = value instead\n",
      "\n",
      "See the caveats in the documentation: https://pandas.pydata.org/pandas-docs/stable/user_guide/indexing.html#returning-a-view-versus-a-copy\n",
      "  self.obj[key] = _infer_fill_value(value)\n",
      "/Users/rossurbina/.conda/envs/ENVIRONMENT/lib/python3.7/site-packages/pandas/core/indexing.py:1763: SettingWithCopyWarning: \n",
      "A value is trying to be set on a copy of a slice from a DataFrame.\n",
      "Try using .loc[row_indexer,col_indexer] = value instead\n",
      "\n",
      "See the caveats in the documentation: https://pandas.pydata.org/pandas-docs/stable/user_guide/indexing.html#returning-a-view-versus-a-copy\n",
      "  isetter(loc, value)\n",
      "/Users/rossurbina/.conda/envs/ENVIRONMENT/lib/python3.7/site-packages/pandas/core/indexing.py:1763: SettingWithCopyWarning: \n",
      "A value is trying to be set on a copy of a slice from a DataFrame.\n",
      "Try using .loc[row_indexer,col_indexer] = value instead\n",
      "\n",
      "See the caveats in the documentation: https://pandas.pydata.org/pandas-docs/stable/user_guide/indexing.html#returning-a-view-versus-a-copy\n",
      "  isetter(loc, value)\n",
      "/Users/rossurbina/.conda/envs/ENVIRONMENT/lib/python3.7/site-packages/pandas/core/indexing.py:1763: SettingWithCopyWarning: \n",
      "A value is trying to be set on a copy of a slice from a DataFrame.\n",
      "Try using .loc[row_indexer,col_indexer] = value instead\n",
      "\n",
      "See the caveats in the documentation: https://pandas.pydata.org/pandas-docs/stable/user_guide/indexing.html#returning-a-view-versus-a-copy\n",
      "  isetter(loc, value)\n",
      "/Users/rossurbina/.conda/envs/ENVIRONMENT/lib/python3.7/site-packages/pandas/core/indexing.py:1763: SettingWithCopyWarning: \n",
      "A value is trying to be set on a copy of a slice from a DataFrame.\n",
      "Try using .loc[row_indexer,col_indexer] = value instead\n",
      "\n",
      "See the caveats in the documentation: https://pandas.pydata.org/pandas-docs/stable/user_guide/indexing.html#returning-a-view-versus-a-copy\n",
      "  isetter(loc, value)\n",
      "/Users/rossurbina/.conda/envs/ENVIRONMENT/lib/python3.7/site-packages/pandas/core/indexing.py:1763: SettingWithCopyWarning: \n",
      "A value is trying to be set on a copy of a slice from a DataFrame.\n",
      "Try using .loc[row_indexer,col_indexer] = value instead\n",
      "\n",
      "See the caveats in the documentation: https://pandas.pydata.org/pandas-docs/stable/user_guide/indexing.html#returning-a-view-versus-a-copy\n",
      "  isetter(loc, value)\n",
      "/Users/rossurbina/.conda/envs/ENVIRONMENT/lib/python3.7/site-packages/pandas/core/indexing.py:1763: SettingWithCopyWarning: \n",
      "A value is trying to be set on a copy of a slice from a DataFrame.\n",
      "Try using .loc[row_indexer,col_indexer] = value instead\n",
      "\n",
      "See the caveats in the documentation: https://pandas.pydata.org/pandas-docs/stable/user_guide/indexing.html#returning-a-view-versus-a-copy\n",
      "  isetter(loc, value)\n"
     ]
    }
   ],
   "source": [
    "df.loc[df['age_5-14 years']==1, 'age_rank']=1\n",
    "df.loc[df['age_15-24 years']==1, 'age_rank']=2\n",
    "df.loc[df['age_25-34 years']==1, 'age_rank']=3\n",
    "df.loc[df['age_35-54 years']==1, 'age_rank']=4\n",
    "df.loc[df['age_55-74 years']==1, 'age_rank']=5\n",
    "df.loc[df['age_75+ years']==1, 'age_rank']=6"
   ]
  },
  {
   "cell_type": "code",
   "execution_count": 16,
   "metadata": {},
   "outputs": [
    {
     "name": "stderr",
     "output_type": "stream",
     "text": [
      "/Users/rossurbina/.conda/envs/ENVIRONMENT/lib/python3.7/site-packages/pandas/core/frame.py:4174: SettingWithCopyWarning: \n",
      "A value is trying to be set on a copy of a slice from a DataFrame\n",
      "\n",
      "See the caveats in the documentation: https://pandas.pydata.org/pandas-docs/stable/user_guide/indexing.html#returning-a-view-versus-a-copy\n",
      "  errors=errors,\n"
     ]
    }
   ],
   "source": [
    "df.drop(['age_5-14 years','age_15-24 years','age_25-34 years','age_35-54 years',\\\n",
    "         'age_55-74 years','age_75+ years'], axis = 1, inplace = True)"
   ]
  },
  {
   "cell_type": "code",
   "execution_count": 17,
   "metadata": {},
   "outputs": [
    {
     "data": {
      "text/html": [
       "<div>\n",
       "<style scoped>\n",
       "    .dataframe tbody tr th:only-of-type {\n",
       "        vertical-align: middle;\n",
       "    }\n",
       "\n",
       "    .dataframe tbody tr th {\n",
       "        vertical-align: top;\n",
       "    }\n",
       "\n",
       "    .dataframe thead th {\n",
       "        text-align: right;\n",
       "    }\n",
       "</style>\n",
       "<table border=\"1\" class=\"dataframe\">\n",
       "  <thead>\n",
       "    <tr style=\"text-align: right;\">\n",
       "      <th></th>\n",
       "      <th>sex_female</th>\n",
       "      <th>suicides_per_100k</th>\n",
       "      <th>age_rank</th>\n",
       "    </tr>\n",
       "    <tr>\n",
       "      <th>country</th>\n",
       "      <th></th>\n",
       "      <th></th>\n",
       "      <th></th>\n",
       "    </tr>\n",
       "  </thead>\n",
       "  <tbody>\n",
       "    <tr>\n",
       "      <th>Antigua and Barbuda</th>\n",
       "      <td>1</td>\n",
       "      <td>15.617679</td>\n",
       "      <td>5.0</td>\n",
       "    </tr>\n",
       "    <tr>\n",
       "      <th>Argentina</th>\n",
       "      <td>1</td>\n",
       "      <td>4.507688</td>\n",
       "      <td>2.0</td>\n",
       "    </tr>\n",
       "    <tr>\n",
       "      <th>Argentina</th>\n",
       "      <td>1</td>\n",
       "      <td>3.523323</td>\n",
       "      <td>3.0</td>\n",
       "    </tr>\n",
       "    <tr>\n",
       "      <th>Argentina</th>\n",
       "      <td>1</td>\n",
       "      <td>3.131267</td>\n",
       "      <td>4.0</td>\n",
       "    </tr>\n",
       "    <tr>\n",
       "      <th>Argentina</th>\n",
       "      <td>1</td>\n",
       "      <td>0.535329</td>\n",
       "      <td>1.0</td>\n",
       "    </tr>\n",
       "    <tr>\n",
       "      <th>...</th>\n",
       "      <td>...</td>\n",
       "      <td>...</td>\n",
       "      <td>...</td>\n",
       "    </tr>\n",
       "    <tr>\n",
       "      <th>Uruguay</th>\n",
       "      <td>0</td>\n",
       "      <td>1.188076</td>\n",
       "      <td>1.0</td>\n",
       "    </tr>\n",
       "    <tr>\n",
       "      <th>Uruguay</th>\n",
       "      <td>0</td>\n",
       "      <td>47.864109</td>\n",
       "      <td>5.0</td>\n",
       "    </tr>\n",
       "    <tr>\n",
       "      <th>Uruguay</th>\n",
       "      <td>0</td>\n",
       "      <td>73.421439</td>\n",
       "      <td>6.0</td>\n",
       "    </tr>\n",
       "    <tr>\n",
       "      <th>Virgin Islands (USA)</th>\n",
       "      <td>0</td>\n",
       "      <td>43.393361</td>\n",
       "      <td>3.0</td>\n",
       "    </tr>\n",
       "    <tr>\n",
       "      <th>Virgin Islands (USA)</th>\n",
       "      <td>0</td>\n",
       "      <td>7.989773</td>\n",
       "      <td>4.0</td>\n",
       "    </tr>\n",
       "  </tbody>\n",
       "</table>\n",
       "<p>723 rows × 3 columns</p>\n",
       "</div>"
      ],
      "text/plain": [
       "                      sex_female  suicides_per_100k  age_rank\n",
       "country                                                      \n",
       "Antigua and Barbuda            1          15.617679       5.0\n",
       "Argentina                      1           4.507688       2.0\n",
       "Argentina                      1           3.523323       3.0\n",
       "Argentina                      1           3.131267       4.0\n",
       "Argentina                      1           0.535329       1.0\n",
       "...                          ...                ...       ...\n",
       "Uruguay                        0           1.188076       1.0\n",
       "Uruguay                        0          47.864109       5.0\n",
       "Uruguay                        0          73.421439       6.0\n",
       "Virgin Islands (USA)           0          43.393361       3.0\n",
       "Virgin Islands (USA)           0           7.989773       4.0\n",
       "\n",
       "[723 rows x 3 columns]"
      ]
     },
     "execution_count": 17,
     "metadata": {},
     "output_type": "execute_result"
    }
   ],
   "source": [
    "df"
   ]
  },
  {
   "cell_type": "markdown",
   "metadata": {},
   "source": [
    "Create a new happy df that only contains attributes that we want to use"
   ]
  },
  {
   "cell_type": "code",
   "execution_count": 18,
   "metadata": {},
   "outputs": [],
   "source": [
    "happy = happy[['Happiness Score','Health (Life Expectancy)','Freedom','Trust (Government Corruption)']]"
   ]
  },
  {
   "cell_type": "code",
   "execution_count": 19,
   "metadata": {},
   "outputs": [
    {
     "data": {
      "text/html": [
       "<div>\n",
       "<style scoped>\n",
       "    .dataframe tbody tr th:only-of-type {\n",
       "        vertical-align: middle;\n",
       "    }\n",
       "\n",
       "    .dataframe tbody tr th {\n",
       "        vertical-align: top;\n",
       "    }\n",
       "\n",
       "    .dataframe thead th {\n",
       "        text-align: right;\n",
       "    }\n",
       "</style>\n",
       "<table border=\"1\" class=\"dataframe\">\n",
       "  <thead>\n",
       "    <tr style=\"text-align: right;\">\n",
       "      <th></th>\n",
       "      <th>Happiness Score</th>\n",
       "      <th>Health (Life Expectancy)</th>\n",
       "      <th>Freedom</th>\n",
       "      <th>Trust (Government Corruption)</th>\n",
       "    </tr>\n",
       "    <tr>\n",
       "      <th>country</th>\n",
       "      <th></th>\n",
       "      <th></th>\n",
       "      <th></th>\n",
       "      <th></th>\n",
       "    </tr>\n",
       "  </thead>\n",
       "  <tbody>\n",
       "    <tr>\n",
       "      <th>Denmark</th>\n",
       "      <td>7.526</td>\n",
       "      <td>0.79504</td>\n",
       "      <td>0.57941</td>\n",
       "      <td>0.44453</td>\n",
       "    </tr>\n",
       "    <tr>\n",
       "      <th>Switzerland</th>\n",
       "      <td>7.509</td>\n",
       "      <td>0.86303</td>\n",
       "      <td>0.58557</td>\n",
       "      <td>0.41203</td>\n",
       "    </tr>\n",
       "    <tr>\n",
       "      <th>Iceland</th>\n",
       "      <td>7.501</td>\n",
       "      <td>0.86733</td>\n",
       "      <td>0.56624</td>\n",
       "      <td>0.14975</td>\n",
       "    </tr>\n",
       "    <tr>\n",
       "      <th>Norway</th>\n",
       "      <td>7.498</td>\n",
       "      <td>0.79579</td>\n",
       "      <td>0.59609</td>\n",
       "      <td>0.35776</td>\n",
       "    </tr>\n",
       "    <tr>\n",
       "      <th>Finland</th>\n",
       "      <td>7.413</td>\n",
       "      <td>0.81091</td>\n",
       "      <td>0.57104</td>\n",
       "      <td>0.41004</td>\n",
       "    </tr>\n",
       "    <tr>\n",
       "      <th>...</th>\n",
       "      <td>...</td>\n",
       "      <td>...</td>\n",
       "      <td>...</td>\n",
       "      <td>...</td>\n",
       "    </tr>\n",
       "    <tr>\n",
       "      <th>Benin</th>\n",
       "      <td>3.484</td>\n",
       "      <td>0.21028</td>\n",
       "      <td>0.39747</td>\n",
       "      <td>0.06681</td>\n",
       "    </tr>\n",
       "    <tr>\n",
       "      <th>Afghanistan</th>\n",
       "      <td>3.360</td>\n",
       "      <td>0.17344</td>\n",
       "      <td>0.16430</td>\n",
       "      <td>0.07112</td>\n",
       "    </tr>\n",
       "    <tr>\n",
       "      <th>Togo</th>\n",
       "      <td>3.303</td>\n",
       "      <td>0.24811</td>\n",
       "      <td>0.34678</td>\n",
       "      <td>0.11587</td>\n",
       "    </tr>\n",
       "    <tr>\n",
       "      <th>Syria</th>\n",
       "      <td>3.069</td>\n",
       "      <td>0.62994</td>\n",
       "      <td>0.06912</td>\n",
       "      <td>0.17233</td>\n",
       "    </tr>\n",
       "    <tr>\n",
       "      <th>Burundi</th>\n",
       "      <td>2.905</td>\n",
       "      <td>0.15747</td>\n",
       "      <td>0.04320</td>\n",
       "      <td>0.09419</td>\n",
       "    </tr>\n",
       "  </tbody>\n",
       "</table>\n",
       "<p>157 rows × 4 columns</p>\n",
       "</div>"
      ],
      "text/plain": [
       "             Happiness Score  Health (Life Expectancy)  Freedom  \\\n",
       "country                                                           \n",
       "Denmark                7.526                   0.79504  0.57941   \n",
       "Switzerland            7.509                   0.86303  0.58557   \n",
       "Iceland                7.501                   0.86733  0.56624   \n",
       "Norway                 7.498                   0.79579  0.59609   \n",
       "Finland                7.413                   0.81091  0.57104   \n",
       "...                      ...                       ...      ...   \n",
       "Benin                  3.484                   0.21028  0.39747   \n",
       "Afghanistan            3.360                   0.17344  0.16430   \n",
       "Togo                   3.303                   0.24811  0.34678   \n",
       "Syria                  3.069                   0.62994  0.06912   \n",
       "Burundi                2.905                   0.15747  0.04320   \n",
       "\n",
       "             Trust (Government Corruption)  \n",
       "country                                     \n",
       "Denmark                            0.44453  \n",
       "Switzerland                        0.41203  \n",
       "Iceland                            0.14975  \n",
       "Norway                             0.35776  \n",
       "Finland                            0.41004  \n",
       "...                                    ...  \n",
       "Benin                              0.06681  \n",
       "Afghanistan                        0.07112  \n",
       "Togo                               0.11587  \n",
       "Syria                              0.17233  \n",
       "Burundi                            0.09419  \n",
       "\n",
       "[157 rows x 4 columns]"
      ]
     },
     "execution_count": 19,
     "metadata": {},
     "output_type": "execute_result"
    }
   ],
   "source": [
    "happy"
   ]
  },
  {
   "cell_type": "markdown",
   "metadata": {},
   "source": [
    "Merge the happy and original df together"
   ]
  },
  {
   "cell_type": "code",
   "execution_count": 20,
   "metadata": {},
   "outputs": [],
   "source": [
    "x = df.merge(happy, how='left', left_on='country', right_on='country')"
   ]
  },
  {
   "cell_type": "code",
   "execution_count": 21,
   "metadata": {},
   "outputs": [
    {
     "data": {
      "text/html": [
       "<div>\n",
       "<style scoped>\n",
       "    .dataframe tbody tr th:only-of-type {\n",
       "        vertical-align: middle;\n",
       "    }\n",
       "\n",
       "    .dataframe tbody tr th {\n",
       "        vertical-align: top;\n",
       "    }\n",
       "\n",
       "    .dataframe thead th {\n",
       "        text-align: right;\n",
       "    }\n",
       "</style>\n",
       "<table border=\"1\" class=\"dataframe\">\n",
       "  <thead>\n",
       "    <tr style=\"text-align: right;\">\n",
       "      <th></th>\n",
       "      <th>sex_female</th>\n",
       "      <th>suicides_per_100k</th>\n",
       "      <th>age_rank</th>\n",
       "      <th>Happiness Score</th>\n",
       "      <th>Health (Life Expectancy)</th>\n",
       "      <th>Freedom</th>\n",
       "      <th>Trust (Government Corruption)</th>\n",
       "    </tr>\n",
       "    <tr>\n",
       "      <th>country</th>\n",
       "      <th></th>\n",
       "      <th></th>\n",
       "      <th></th>\n",
       "      <th></th>\n",
       "      <th></th>\n",
       "      <th></th>\n",
       "      <th></th>\n",
       "    </tr>\n",
       "  </thead>\n",
       "  <tbody>\n",
       "    <tr>\n",
       "      <th>Antigua and Barbuda</th>\n",
       "      <td>1</td>\n",
       "      <td>15.617679</td>\n",
       "      <td>5.0</td>\n",
       "      <td>NaN</td>\n",
       "      <td>NaN</td>\n",
       "      <td>NaN</td>\n",
       "      <td>NaN</td>\n",
       "    </tr>\n",
       "    <tr>\n",
       "      <th>Argentina</th>\n",
       "      <td>1</td>\n",
       "      <td>4.507688</td>\n",
       "      <td>2.0</td>\n",
       "      <td>6.650</td>\n",
       "      <td>0.69711</td>\n",
       "      <td>0.42284</td>\n",
       "      <td>0.07296</td>\n",
       "    </tr>\n",
       "    <tr>\n",
       "      <th>Argentina</th>\n",
       "      <td>1</td>\n",
       "      <td>3.523323</td>\n",
       "      <td>3.0</td>\n",
       "      <td>6.650</td>\n",
       "      <td>0.69711</td>\n",
       "      <td>0.42284</td>\n",
       "      <td>0.07296</td>\n",
       "    </tr>\n",
       "    <tr>\n",
       "      <th>Argentina</th>\n",
       "      <td>1</td>\n",
       "      <td>3.131267</td>\n",
       "      <td>4.0</td>\n",
       "      <td>6.650</td>\n",
       "      <td>0.69711</td>\n",
       "      <td>0.42284</td>\n",
       "      <td>0.07296</td>\n",
       "    </tr>\n",
       "    <tr>\n",
       "      <th>Argentina</th>\n",
       "      <td>1</td>\n",
       "      <td>0.535329</td>\n",
       "      <td>1.0</td>\n",
       "      <td>6.650</td>\n",
       "      <td>0.69711</td>\n",
       "      <td>0.42284</td>\n",
       "      <td>0.07296</td>\n",
       "    </tr>\n",
       "    <tr>\n",
       "      <th>...</th>\n",
       "      <td>...</td>\n",
       "      <td>...</td>\n",
       "      <td>...</td>\n",
       "      <td>...</td>\n",
       "      <td>...</td>\n",
       "      <td>...</td>\n",
       "      <td>...</td>\n",
       "    </tr>\n",
       "    <tr>\n",
       "      <th>Uruguay</th>\n",
       "      <td>0</td>\n",
       "      <td>1.188076</td>\n",
       "      <td>1.0</td>\n",
       "      <td>6.545</td>\n",
       "      <td>0.72183</td>\n",
       "      <td>0.54388</td>\n",
       "      <td>0.21394</td>\n",
       "    </tr>\n",
       "    <tr>\n",
       "      <th>Uruguay</th>\n",
       "      <td>0</td>\n",
       "      <td>47.864109</td>\n",
       "      <td>5.0</td>\n",
       "      <td>6.545</td>\n",
       "      <td>0.72183</td>\n",
       "      <td>0.54388</td>\n",
       "      <td>0.21394</td>\n",
       "    </tr>\n",
       "    <tr>\n",
       "      <th>Uruguay</th>\n",
       "      <td>0</td>\n",
       "      <td>73.421439</td>\n",
       "      <td>6.0</td>\n",
       "      <td>6.545</td>\n",
       "      <td>0.72183</td>\n",
       "      <td>0.54388</td>\n",
       "      <td>0.21394</td>\n",
       "    </tr>\n",
       "    <tr>\n",
       "      <th>Virgin Islands (USA)</th>\n",
       "      <td>0</td>\n",
       "      <td>43.393361</td>\n",
       "      <td>3.0</td>\n",
       "      <td>NaN</td>\n",
       "      <td>NaN</td>\n",
       "      <td>NaN</td>\n",
       "      <td>NaN</td>\n",
       "    </tr>\n",
       "    <tr>\n",
       "      <th>Virgin Islands (USA)</th>\n",
       "      <td>0</td>\n",
       "      <td>7.989773</td>\n",
       "      <td>4.0</td>\n",
       "      <td>NaN</td>\n",
       "      <td>NaN</td>\n",
       "      <td>NaN</td>\n",
       "      <td>NaN</td>\n",
       "    </tr>\n",
       "  </tbody>\n",
       "</table>\n",
       "<p>723 rows × 7 columns</p>\n",
       "</div>"
      ],
      "text/plain": [
       "                      sex_female  suicides_per_100k  age_rank  \\\n",
       "country                                                         \n",
       "Antigua and Barbuda            1          15.617679       5.0   \n",
       "Argentina                      1           4.507688       2.0   \n",
       "Argentina                      1           3.523323       3.0   \n",
       "Argentina                      1           3.131267       4.0   \n",
       "Argentina                      1           0.535329       1.0   \n",
       "...                          ...                ...       ...   \n",
       "Uruguay                        0           1.188076       1.0   \n",
       "Uruguay                        0          47.864109       5.0   \n",
       "Uruguay                        0          73.421439       6.0   \n",
       "Virgin Islands (USA)           0          43.393361       3.0   \n",
       "Virgin Islands (USA)           0           7.989773       4.0   \n",
       "\n",
       "                      Happiness Score  Health (Life Expectancy)  Freedom  \\\n",
       "country                                                                    \n",
       "Antigua and Barbuda               NaN                       NaN      NaN   \n",
       "Argentina                       6.650                   0.69711  0.42284   \n",
       "Argentina                       6.650                   0.69711  0.42284   \n",
       "Argentina                       6.650                   0.69711  0.42284   \n",
       "Argentina                       6.650                   0.69711  0.42284   \n",
       "...                               ...                       ...      ...   \n",
       "Uruguay                         6.545                   0.72183  0.54388   \n",
       "Uruguay                         6.545                   0.72183  0.54388   \n",
       "Uruguay                         6.545                   0.72183  0.54388   \n",
       "Virgin Islands (USA)              NaN                       NaN      NaN   \n",
       "Virgin Islands (USA)              NaN                       NaN      NaN   \n",
       "\n",
       "                      Trust (Government Corruption)  \n",
       "country                                              \n",
       "Antigua and Barbuda                             NaN  \n",
       "Argentina                                   0.07296  \n",
       "Argentina                                   0.07296  \n",
       "Argentina                                   0.07296  \n",
       "Argentina                                   0.07296  \n",
       "...                                             ...  \n",
       "Uruguay                                     0.21394  \n",
       "Uruguay                                     0.21394  \n",
       "Uruguay                                     0.21394  \n",
       "Virgin Islands (USA)                            NaN  \n",
       "Virgin Islands (USA)                            NaN  \n",
       "\n",
       "[723 rows x 7 columns]"
      ]
     },
     "execution_count": 21,
     "metadata": {},
     "output_type": "execute_result"
    }
   ],
   "source": [
    "x"
   ]
  },
  {
   "cell_type": "markdown",
   "metadata": {},
   "source": [
    "Create a new undata df that only contains values we care about"
   ]
  },
  {
   "cell_type": "code",
   "execution_count": 22,
   "metadata": {},
   "outputs": [],
   "source": [
    "undata = undata[['GDP per capita (current US$)', 'Unemployment (% of labour force)', \\\n",
    "            'Labour force participation (female/male pop. %)', 'Health: Total expenditure (% of GDP)', \\\n",
    "            'Education: Government expenditure (% of GDP)', \\\n",
    "            'Seats held by women in national parliaments %',\\\n",
    "            'Individuals using the Internet (per 100 inhabitants)' , \\\n",
    "            'Pop. using improved drinking water (urban/rural, %)',\\\n",
    "            'Sex ratio (m per 100 f, 2017)',\\\n",
    "            'GDP growth rate (annual %, const. 2005 prices)',\\\n",
    "            'Energy supply per capita (Gigajoules)'\n",
    "]]"
   ]
  },
  {
   "cell_type": "code",
   "execution_count": 23,
   "metadata": {},
   "outputs": [
    {
     "data": {
      "text/html": [
       "<div>\n",
       "<style scoped>\n",
       "    .dataframe tbody tr th:only-of-type {\n",
       "        vertical-align: middle;\n",
       "    }\n",
       "\n",
       "    .dataframe tbody tr th {\n",
       "        vertical-align: top;\n",
       "    }\n",
       "\n",
       "    .dataframe thead th {\n",
       "        text-align: right;\n",
       "    }\n",
       "</style>\n",
       "<table border=\"1\" class=\"dataframe\">\n",
       "  <thead>\n",
       "    <tr style=\"text-align: right;\">\n",
       "      <th></th>\n",
       "      <th>GDP per capita (current US$)</th>\n",
       "      <th>Unemployment (% of labour force)</th>\n",
       "      <th>Labour force participation (female/male pop. %)</th>\n",
       "      <th>Health: Total expenditure (% of GDP)</th>\n",
       "      <th>Education: Government expenditure (% of GDP)</th>\n",
       "      <th>Seats held by women in national parliaments %</th>\n",
       "      <th>Individuals using the Internet (per 100 inhabitants)</th>\n",
       "      <th>Pop. using improved drinking water (urban/rural, %)</th>\n",
       "      <th>Sex ratio (m per 100 f, 2017)</th>\n",
       "      <th>GDP growth rate (annual %, const. 2005 prices)</th>\n",
       "      <th>Energy supply per capita (Gigajoules)</th>\n",
       "    </tr>\n",
       "    <tr>\n",
       "      <th>country</th>\n",
       "      <th></th>\n",
       "      <th></th>\n",
       "      <th></th>\n",
       "      <th></th>\n",
       "      <th></th>\n",
       "      <th></th>\n",
       "      <th></th>\n",
       "      <th></th>\n",
       "      <th></th>\n",
       "      <th></th>\n",
       "      <th></th>\n",
       "    </tr>\n",
       "  </thead>\n",
       "  <tbody>\n",
       "    <tr>\n",
       "      <th>Afghanistan</th>\n",
       "      <td>623.2</td>\n",
       "      <td>8.6</td>\n",
       "      <td>19.3/83.6</td>\n",
       "      <td>8.2</td>\n",
       "      <td>3.3</td>\n",
       "      <td>27.7</td>\n",
       "      <td>42</td>\n",
       "      <td>45.1/27.0</td>\n",
       "      <td>106.3</td>\n",
       "      <td>-2.4</td>\n",
       "      <td>78.2/47.0</td>\n",
       "    </tr>\n",
       "    <tr>\n",
       "      <th>Albania</th>\n",
       "      <td>3984.2</td>\n",
       "      <td>15.8</td>\n",
       "      <td>40.2/61.0</td>\n",
       "      <td>5.9</td>\n",
       "      <td>3.5</td>\n",
       "      <td>22.9</td>\n",
       "      <td>130</td>\n",
       "      <td>95.5/90.2</td>\n",
       "      <td>101.9</td>\n",
       "      <td>2.6</td>\n",
       "      <td>94.9/95.2</td>\n",
       "    </tr>\n",
       "    <tr>\n",
       "      <th>Algeria</th>\n",
       "      <td>4154.1</td>\n",
       "      <td>11.4</td>\n",
       "      <td>17.0/70.7</td>\n",
       "      <td>7.2</td>\n",
       "      <td>...</td>\n",
       "      <td>31.6</td>\n",
       "      <td>135</td>\n",
       "      <td>89.8/82.2</td>\n",
       "      <td>102.0</td>\n",
       "      <td>3.8</td>\n",
       "      <td>84.3/81.8</td>\n",
       "    </tr>\n",
       "    <tr>\n",
       "      <th>American Samoa</th>\n",
       "      <td>-99.0</td>\n",
       "      <td>...</td>\n",
       "      <td>.../...</td>\n",
       "      <td>-99.0</td>\n",
       "      <td>-99</td>\n",
       "      <td>-99.0</td>\n",
       "      <td>92</td>\n",
       "      <td>62.5/62.5</td>\n",
       "      <td>103.6</td>\n",
       "      <td>-99</td>\n",
       "      <td>100.0/100.0</td>\n",
       "    </tr>\n",
       "    <tr>\n",
       "      <th>Andorra</th>\n",
       "      <td>39896.4</td>\n",
       "      <td>-99</td>\n",
       "      <td>-99</td>\n",
       "      <td>8.1</td>\n",
       "      <td>3.3</td>\n",
       "      <td>32.1</td>\n",
       "      <td>13</td>\n",
       "      <td>100.0/100.0</td>\n",
       "      <td>102.3</td>\n",
       "      <td>0.8</td>\n",
       "      <td>100.0/100.0</td>\n",
       "    </tr>\n",
       "    <tr>\n",
       "      <th>...</th>\n",
       "      <td>...</td>\n",
       "      <td>...</td>\n",
       "      <td>...</td>\n",
       "      <td>...</td>\n",
       "      <td>...</td>\n",
       "      <td>...</td>\n",
       "      <td>...</td>\n",
       "      <td>...</td>\n",
       "      <td>...</td>\n",
       "      <td>...</td>\n",
       "      <td>...</td>\n",
       "    </tr>\n",
       "    <tr>\n",
       "      <th>Wallis and Futuna Islands</th>\n",
       "      <td>-99.0</td>\n",
       "      <td>-99</td>\n",
       "      <td>-99</td>\n",
       "      <td>-99.0</td>\n",
       "      <td>-99</td>\n",
       "      <td>-99.0</td>\n",
       "      <td>89</td>\n",
       "      <td>-99</td>\n",
       "      <td>93.4</td>\n",
       "      <td>-99</td>\n",
       "      <td>-99</td>\n",
       "    </tr>\n",
       "    <tr>\n",
       "      <th>Western Sahara</th>\n",
       "      <td>-99.0</td>\n",
       "      <td>6.8</td>\n",
       "      <td>28.6/83.3</td>\n",
       "      <td>-99.0</td>\n",
       "      <td>-99</td>\n",
       "      <td>-99.0</td>\n",
       "      <td>49</td>\n",
       "      <td>-99</td>\n",
       "      <td>110.1</td>\n",
       "      <td>-99</td>\n",
       "      <td>-99</td>\n",
       "    </tr>\n",
       "    <tr>\n",
       "      <th>Yemen</th>\n",
       "      <td>1106.4</td>\n",
       "      <td>16.1</td>\n",
       "      <td>26.2/73.7</td>\n",
       "      <td>5.6</td>\n",
       "      <td>...</td>\n",
       "      <td>0.0</td>\n",
       "      <td>298</td>\n",
       "      <td>92.5/34.1</td>\n",
       "      <td>102.1</td>\n",
       "      <td>-28.1</td>\n",
       "      <td>72.0/46.5</td>\n",
       "    </tr>\n",
       "    <tr>\n",
       "      <th>Zambia</th>\n",
       "      <td>1311.1</td>\n",
       "      <td>7.4</td>\n",
       "      <td>69.9/80.9</td>\n",
       "      <td>5.0</td>\n",
       "      <td>...</td>\n",
       "      <td>18.0</td>\n",
       "      <td>88</td>\n",
       "      <td>55.6/35.7</td>\n",
       "      <td>98.5</td>\n",
       "      <td>2.9</td>\n",
       "      <td>85.6/51.3</td>\n",
       "    </tr>\n",
       "    <tr>\n",
       "      <th>Zimbabwe</th>\n",
       "      <td>890.4</td>\n",
       "      <td>5.0</td>\n",
       "      <td>78.0/87.5</td>\n",
       "      <td>6.0</td>\n",
       "      <td>8.4</td>\n",
       "      <td>32.6</td>\n",
       "      <td>89</td>\n",
       "      <td>49.3/30.8</td>\n",
       "      <td>95.0</td>\n",
       "      <td>1.1</td>\n",
       "      <td>97.0/67.3</td>\n",
       "    </tr>\n",
       "  </tbody>\n",
       "</table>\n",
       "<p>229 rows × 11 columns</p>\n",
       "</div>"
      ],
      "text/plain": [
       "                           GDP per capita (current US$)  \\\n",
       "country                                                   \n",
       "Afghanistan                                       623.2   \n",
       "Albania                                          3984.2   \n",
       "Algeria                                          4154.1   \n",
       "American Samoa                                    -99.0   \n",
       "Andorra                                         39896.4   \n",
       "...                                                 ...   \n",
       "Wallis and Futuna Islands                         -99.0   \n",
       "Western Sahara                                    -99.0   \n",
       "Yemen                                            1106.4   \n",
       "Zambia                                           1311.1   \n",
       "Zimbabwe                                          890.4   \n",
       "\n",
       "                          Unemployment (% of labour force)  \\\n",
       "country                                                      \n",
       "Afghanistan                                            8.6   \n",
       "Albania                                               15.8   \n",
       "Algeria                                               11.4   \n",
       "American Samoa                                         ...   \n",
       "Andorra                                                -99   \n",
       "...                                                    ...   \n",
       "Wallis and Futuna Islands                              -99   \n",
       "Western Sahara                                         6.8   \n",
       "Yemen                                                 16.1   \n",
       "Zambia                                                 7.4   \n",
       "Zimbabwe                                               5.0   \n",
       "\n",
       "                          Labour force participation (female/male pop. %)  \\\n",
       "country                                                                     \n",
       "Afghanistan                                                     19.3/83.6   \n",
       "Albania                                                         40.2/61.0   \n",
       "Algeria                                                         17.0/70.7   \n",
       "American Samoa                                                    .../...   \n",
       "Andorra                                                               -99   \n",
       "...                                                                   ...   \n",
       "Wallis and Futuna Islands                                             -99   \n",
       "Western Sahara                                                  28.6/83.3   \n",
       "Yemen                                                           26.2/73.7   \n",
       "Zambia                                                          69.9/80.9   \n",
       "Zimbabwe                                                        78.0/87.5   \n",
       "\n",
       "                           Health: Total expenditure (% of GDP)  \\\n",
       "country                                                           \n",
       "Afghanistan                                                 8.2   \n",
       "Albania                                                     5.9   \n",
       "Algeria                                                     7.2   \n",
       "American Samoa                                            -99.0   \n",
       "Andorra                                                     8.1   \n",
       "...                                                         ...   \n",
       "Wallis and Futuna Islands                                 -99.0   \n",
       "Western Sahara                                            -99.0   \n",
       "Yemen                                                       5.6   \n",
       "Zambia                                                      5.0   \n",
       "Zimbabwe                                                    6.0   \n",
       "\n",
       "                          Education: Government expenditure (% of GDP)  \\\n",
       "country                                                                  \n",
       "Afghanistan                                                        3.3   \n",
       "Albania                                                            3.5   \n",
       "Algeria                                                            ...   \n",
       "American Samoa                                                     -99   \n",
       "Andorra                                                            3.3   \n",
       "...                                                                ...   \n",
       "Wallis and Futuna Islands                                          -99   \n",
       "Western Sahara                                                     -99   \n",
       "Yemen                                                              ...   \n",
       "Zambia                                                             ...   \n",
       "Zimbabwe                                                           8.4   \n",
       "\n",
       "                           Seats held by women in national parliaments %  \\\n",
       "country                                                                    \n",
       "Afghanistan                                                         27.7   \n",
       "Albania                                                             22.9   \n",
       "Algeria                                                             31.6   \n",
       "American Samoa                                                     -99.0   \n",
       "Andorra                                                             32.1   \n",
       "...                                                                  ...   \n",
       "Wallis and Futuna Islands                                          -99.0   \n",
       "Western Sahara                                                     -99.0   \n",
       "Yemen                                                                0.0   \n",
       "Zambia                                                              18.0   \n",
       "Zimbabwe                                                            32.6   \n",
       "\n",
       "                           Individuals using the Internet (per 100 inhabitants)  \\\n",
       "country                                                                           \n",
       "Afghanistan                                                               42      \n",
       "Albania                                                                  130      \n",
       "Algeria                                                                  135      \n",
       "American Samoa                                                            92      \n",
       "Andorra                                                                   13      \n",
       "...                                                                      ...      \n",
       "Wallis and Futuna Islands                                                 89      \n",
       "Western Sahara                                                            49      \n",
       "Yemen                                                                    298      \n",
       "Zambia                                                                    88      \n",
       "Zimbabwe                                                                  89      \n",
       "\n",
       "                          Pop. using improved drinking water (urban/rural, %)  \\\n",
       "country                                                                         \n",
       "Afghanistan                                                        45.1/27.0    \n",
       "Albania                                                            95.5/90.2    \n",
       "Algeria                                                            89.8/82.2    \n",
       "American Samoa                                                     62.5/62.5    \n",
       "Andorra                                                          100.0/100.0    \n",
       "...                                                                      ...    \n",
       "Wallis and Futuna Islands                                                -99    \n",
       "Western Sahara                                                           -99    \n",
       "Yemen                                                              92.5/34.1    \n",
       "Zambia                                                             55.6/35.7    \n",
       "Zimbabwe                                                           49.3/30.8    \n",
       "\n",
       "                           Sex ratio (m per 100 f, 2017)  \\\n",
       "country                                                    \n",
       "Afghanistan                                        106.3   \n",
       "Albania                                            101.9   \n",
       "Algeria                                            102.0   \n",
       "American Samoa                                     103.6   \n",
       "Andorra                                            102.3   \n",
       "...                                                  ...   \n",
       "Wallis and Futuna Islands                           93.4   \n",
       "Western Sahara                                     110.1   \n",
       "Yemen                                              102.1   \n",
       "Zambia                                              98.5   \n",
       "Zimbabwe                                            95.0   \n",
       "\n",
       "                          GDP growth rate (annual %, const. 2005 prices)  \\\n",
       "country                                                                    \n",
       "Afghanistan                                                         -2.4   \n",
       "Albania                                                              2.6   \n",
       "Algeria                                                              3.8   \n",
       "American Samoa                                                       -99   \n",
       "Andorra                                                              0.8   \n",
       "...                                                                  ...   \n",
       "Wallis and Futuna Islands                                            -99   \n",
       "Western Sahara                                                       -99   \n",
       "Yemen                                                              -28.1   \n",
       "Zambia                                                               2.9   \n",
       "Zimbabwe                                                             1.1   \n",
       "\n",
       "                          Energy supply per capita (Gigajoules)  \n",
       "country                                                          \n",
       "Afghanistan                                           78.2/47.0  \n",
       "Albania                                               94.9/95.2  \n",
       "Algeria                                               84.3/81.8  \n",
       "American Samoa                                      100.0/100.0  \n",
       "Andorra                                             100.0/100.0  \n",
       "...                                                         ...  \n",
       "Wallis and Futuna Islands                                   -99  \n",
       "Western Sahara                                              -99  \n",
       "Yemen                                                 72.0/46.5  \n",
       "Zambia                                                85.6/51.3  \n",
       "Zimbabwe                                              97.0/67.3  \n",
       "\n",
       "[229 rows x 11 columns]"
      ]
     },
     "execution_count": 23,
     "metadata": {},
     "output_type": "execute_result"
    }
   ],
   "source": [
    "undata"
   ]
  },
  {
   "cell_type": "markdown",
   "metadata": {},
   "source": [
    "In this dataset, there are multiple values that could represent NaN values (-99 and ...). We need to get rid of those numbers and make them NaN values, so replace them with NaN values"
   ]
  },
  {
   "cell_type": "code",
   "execution_count": 24,
   "metadata": {},
   "outputs": [],
   "source": [
    "undata1 = undata.replace(to_replace=[-99.0, '-99', '...', '.../...'],value=np.nan)"
   ]
  },
  {
   "cell_type": "markdown",
   "metadata": {},
   "source": [
    "Rename column names to make them easier to use"
   ]
  },
  {
   "cell_type": "code",
   "execution_count": 25,
   "metadata": {},
   "outputs": [],
   "source": [
    "undata2 =undata1.rename(columns = { 'GDP per capita (current US$)':'GDP per capita', \\\n",
    "                                   'Unemployment (% of labour force)':'Unemployment_rate', \\\n",
    "                                   'Labour force participation (female/male pop. %)': 'Female_labor_force', \\\n",
    "                                   'Pop. using improved drinking water (urban/rural, %)':'urban_pop_using_drinking_water',\\\n",
    "                                   'Energy supply per capita (Gigajoules)': 'energy_supply_per_capita'\n",
    "                                  })"
   ]
  },
  {
   "cell_type": "code",
   "execution_count": 26,
   "metadata": {},
   "outputs": [
    {
     "data": {
      "text/html": [
       "<div>\n",
       "<style scoped>\n",
       "    .dataframe tbody tr th:only-of-type {\n",
       "        vertical-align: middle;\n",
       "    }\n",
       "\n",
       "    .dataframe tbody tr th {\n",
       "        vertical-align: top;\n",
       "    }\n",
       "\n",
       "    .dataframe thead th {\n",
       "        text-align: right;\n",
       "    }\n",
       "</style>\n",
       "<table border=\"1\" class=\"dataframe\">\n",
       "  <thead>\n",
       "    <tr style=\"text-align: right;\">\n",
       "      <th></th>\n",
       "      <th>GDP per capita</th>\n",
       "      <th>Unemployment_rate</th>\n",
       "      <th>Female_labor_force</th>\n",
       "      <th>Health: Total expenditure (% of GDP)</th>\n",
       "      <th>Education: Government expenditure (% of GDP)</th>\n",
       "      <th>Seats held by women in national parliaments %</th>\n",
       "      <th>Individuals using the Internet (per 100 inhabitants)</th>\n",
       "      <th>urban_pop_using_drinking_water</th>\n",
       "      <th>Sex ratio (m per 100 f, 2017)</th>\n",
       "      <th>GDP growth rate (annual %, const. 2005 prices)</th>\n",
       "      <th>energy_supply_per_capita</th>\n",
       "    </tr>\n",
       "    <tr>\n",
       "      <th>country</th>\n",
       "      <th></th>\n",
       "      <th></th>\n",
       "      <th></th>\n",
       "      <th></th>\n",
       "      <th></th>\n",
       "      <th></th>\n",
       "      <th></th>\n",
       "      <th></th>\n",
       "      <th></th>\n",
       "      <th></th>\n",
       "      <th></th>\n",
       "    </tr>\n",
       "  </thead>\n",
       "  <tbody>\n",
       "    <tr>\n",
       "      <th>Afghanistan</th>\n",
       "      <td>623.2</td>\n",
       "      <td>8.6</td>\n",
       "      <td>19.3/83.6</td>\n",
       "      <td>8.2</td>\n",
       "      <td>3.3</td>\n",
       "      <td>27.7</td>\n",
       "      <td>42.0</td>\n",
       "      <td>45.1/27.0</td>\n",
       "      <td>106.3</td>\n",
       "      <td>-2.4</td>\n",
       "      <td>78.2/47.0</td>\n",
       "    </tr>\n",
       "    <tr>\n",
       "      <th>Albania</th>\n",
       "      <td>3984.2</td>\n",
       "      <td>15.8</td>\n",
       "      <td>40.2/61.0</td>\n",
       "      <td>5.9</td>\n",
       "      <td>3.5</td>\n",
       "      <td>22.9</td>\n",
       "      <td>130.0</td>\n",
       "      <td>95.5/90.2</td>\n",
       "      <td>101.9</td>\n",
       "      <td>2.6</td>\n",
       "      <td>94.9/95.2</td>\n",
       "    </tr>\n",
       "    <tr>\n",
       "      <th>Algeria</th>\n",
       "      <td>4154.1</td>\n",
       "      <td>11.4</td>\n",
       "      <td>17.0/70.7</td>\n",
       "      <td>7.2</td>\n",
       "      <td>NaN</td>\n",
       "      <td>31.6</td>\n",
       "      <td>135.0</td>\n",
       "      <td>89.8/82.2</td>\n",
       "      <td>102.0</td>\n",
       "      <td>3.8</td>\n",
       "      <td>84.3/81.8</td>\n",
       "    </tr>\n",
       "    <tr>\n",
       "      <th>American Samoa</th>\n",
       "      <td>NaN</td>\n",
       "      <td>NaN</td>\n",
       "      <td>NaN</td>\n",
       "      <td>NaN</td>\n",
       "      <td>NaN</td>\n",
       "      <td>NaN</td>\n",
       "      <td>92.0</td>\n",
       "      <td>62.5/62.5</td>\n",
       "      <td>103.6</td>\n",
       "      <td>NaN</td>\n",
       "      <td>100.0/100.0</td>\n",
       "    </tr>\n",
       "    <tr>\n",
       "      <th>Andorra</th>\n",
       "      <td>39896.4</td>\n",
       "      <td>NaN</td>\n",
       "      <td>NaN</td>\n",
       "      <td>8.1</td>\n",
       "      <td>3.3</td>\n",
       "      <td>32.1</td>\n",
       "      <td>13.0</td>\n",
       "      <td>100.0/100.0</td>\n",
       "      <td>102.3</td>\n",
       "      <td>0.8</td>\n",
       "      <td>100.0/100.0</td>\n",
       "    </tr>\n",
       "    <tr>\n",
       "      <th>...</th>\n",
       "      <td>...</td>\n",
       "      <td>...</td>\n",
       "      <td>...</td>\n",
       "      <td>...</td>\n",
       "      <td>...</td>\n",
       "      <td>...</td>\n",
       "      <td>...</td>\n",
       "      <td>...</td>\n",
       "      <td>...</td>\n",
       "      <td>...</td>\n",
       "      <td>...</td>\n",
       "    </tr>\n",
       "    <tr>\n",
       "      <th>Wallis and Futuna Islands</th>\n",
       "      <td>NaN</td>\n",
       "      <td>NaN</td>\n",
       "      <td>NaN</td>\n",
       "      <td>NaN</td>\n",
       "      <td>NaN</td>\n",
       "      <td>NaN</td>\n",
       "      <td>89.0</td>\n",
       "      <td>NaN</td>\n",
       "      <td>93.4</td>\n",
       "      <td>NaN</td>\n",
       "      <td>NaN</td>\n",
       "    </tr>\n",
       "    <tr>\n",
       "      <th>Western Sahara</th>\n",
       "      <td>NaN</td>\n",
       "      <td>6.8</td>\n",
       "      <td>28.6/83.3</td>\n",
       "      <td>NaN</td>\n",
       "      <td>NaN</td>\n",
       "      <td>NaN</td>\n",
       "      <td>49.0</td>\n",
       "      <td>NaN</td>\n",
       "      <td>110.1</td>\n",
       "      <td>NaN</td>\n",
       "      <td>NaN</td>\n",
       "    </tr>\n",
       "    <tr>\n",
       "      <th>Yemen</th>\n",
       "      <td>1106.4</td>\n",
       "      <td>16.1</td>\n",
       "      <td>26.2/73.7</td>\n",
       "      <td>5.6</td>\n",
       "      <td>NaN</td>\n",
       "      <td>0.0</td>\n",
       "      <td>298.0</td>\n",
       "      <td>92.5/34.1</td>\n",
       "      <td>102.1</td>\n",
       "      <td>-28.1</td>\n",
       "      <td>72.0/46.5</td>\n",
       "    </tr>\n",
       "    <tr>\n",
       "      <th>Zambia</th>\n",
       "      <td>1311.1</td>\n",
       "      <td>7.4</td>\n",
       "      <td>69.9/80.9</td>\n",
       "      <td>5.0</td>\n",
       "      <td>NaN</td>\n",
       "      <td>18.0</td>\n",
       "      <td>88.0</td>\n",
       "      <td>55.6/35.7</td>\n",
       "      <td>98.5</td>\n",
       "      <td>2.9</td>\n",
       "      <td>85.6/51.3</td>\n",
       "    </tr>\n",
       "    <tr>\n",
       "      <th>Zimbabwe</th>\n",
       "      <td>890.4</td>\n",
       "      <td>5.0</td>\n",
       "      <td>78.0/87.5</td>\n",
       "      <td>6.0</td>\n",
       "      <td>8.4</td>\n",
       "      <td>32.6</td>\n",
       "      <td>89.0</td>\n",
       "      <td>49.3/30.8</td>\n",
       "      <td>95.0</td>\n",
       "      <td>1.1</td>\n",
       "      <td>97.0/67.3</td>\n",
       "    </tr>\n",
       "  </tbody>\n",
       "</table>\n",
       "<p>229 rows × 11 columns</p>\n",
       "</div>"
      ],
      "text/plain": [
       "                           GDP per capita Unemployment_rate  \\\n",
       "country                                                       \n",
       "Afghanistan                         623.2               8.6   \n",
       "Albania                            3984.2              15.8   \n",
       "Algeria                            4154.1              11.4   \n",
       "American Samoa                        NaN               NaN   \n",
       "Andorra                           39896.4               NaN   \n",
       "...                                   ...               ...   \n",
       "Wallis and Futuna Islands             NaN               NaN   \n",
       "Western Sahara                        NaN               6.8   \n",
       "Yemen                              1106.4              16.1   \n",
       "Zambia                             1311.1               7.4   \n",
       "Zimbabwe                            890.4               5.0   \n",
       "\n",
       "                          Female_labor_force  \\\n",
       "country                                        \n",
       "Afghanistan                        19.3/83.6   \n",
       "Albania                            40.2/61.0   \n",
       "Algeria                            17.0/70.7   \n",
       "American Samoa                           NaN   \n",
       "Andorra                                  NaN   \n",
       "...                                      ...   \n",
       "Wallis and Futuna Islands                NaN   \n",
       "Western Sahara                     28.6/83.3   \n",
       "Yemen                              26.2/73.7   \n",
       "Zambia                             69.9/80.9   \n",
       "Zimbabwe                           78.0/87.5   \n",
       "\n",
       "                           Health: Total expenditure (% of GDP)  \\\n",
       "country                                                           \n",
       "Afghanistan                                                 8.2   \n",
       "Albania                                                     5.9   \n",
       "Algeria                                                     7.2   \n",
       "American Samoa                                              NaN   \n",
       "Andorra                                                     8.1   \n",
       "...                                                         ...   \n",
       "Wallis and Futuna Islands                                   NaN   \n",
       "Western Sahara                                              NaN   \n",
       "Yemen                                                       5.6   \n",
       "Zambia                                                      5.0   \n",
       "Zimbabwe                                                    6.0   \n",
       "\n",
       "                          Education: Government expenditure (% of GDP)  \\\n",
       "country                                                                  \n",
       "Afghanistan                                                        3.3   \n",
       "Albania                                                            3.5   \n",
       "Algeria                                                            NaN   \n",
       "American Samoa                                                     NaN   \n",
       "Andorra                                                            3.3   \n",
       "...                                                                ...   \n",
       "Wallis and Futuna Islands                                          NaN   \n",
       "Western Sahara                                                     NaN   \n",
       "Yemen                                                              NaN   \n",
       "Zambia                                                             NaN   \n",
       "Zimbabwe                                                           8.4   \n",
       "\n",
       "                           Seats held by women in national parliaments %  \\\n",
       "country                                                                    \n",
       "Afghanistan                                                         27.7   \n",
       "Albania                                                             22.9   \n",
       "Algeria                                                             31.6   \n",
       "American Samoa                                                       NaN   \n",
       "Andorra                                                             32.1   \n",
       "...                                                                  ...   \n",
       "Wallis and Futuna Islands                                            NaN   \n",
       "Western Sahara                                                       NaN   \n",
       "Yemen                                                                0.0   \n",
       "Zambia                                                              18.0   \n",
       "Zimbabwe                                                            32.6   \n",
       "\n",
       "                           Individuals using the Internet (per 100 inhabitants)  \\\n",
       "country                                                                           \n",
       "Afghanistan                                                             42.0      \n",
       "Albania                                                                130.0      \n",
       "Algeria                                                                135.0      \n",
       "American Samoa                                                          92.0      \n",
       "Andorra                                                                 13.0      \n",
       "...                                                                      ...      \n",
       "Wallis and Futuna Islands                                               89.0      \n",
       "Western Sahara                                                          49.0      \n",
       "Yemen                                                                  298.0      \n",
       "Zambia                                                                  88.0      \n",
       "Zimbabwe                                                                89.0      \n",
       "\n",
       "                          urban_pop_using_drinking_water  \\\n",
       "country                                                    \n",
       "Afghanistan                                    45.1/27.0   \n",
       "Albania                                        95.5/90.2   \n",
       "Algeria                                        89.8/82.2   \n",
       "American Samoa                                 62.5/62.5   \n",
       "Andorra                                      100.0/100.0   \n",
       "...                                                  ...   \n",
       "Wallis and Futuna Islands                            NaN   \n",
       "Western Sahara                                       NaN   \n",
       "Yemen                                          92.5/34.1   \n",
       "Zambia                                         55.6/35.7   \n",
       "Zimbabwe                                       49.3/30.8   \n",
       "\n",
       "                           Sex ratio (m per 100 f, 2017)  \\\n",
       "country                                                    \n",
       "Afghanistan                                        106.3   \n",
       "Albania                                            101.9   \n",
       "Algeria                                            102.0   \n",
       "American Samoa                                     103.6   \n",
       "Andorra                                            102.3   \n",
       "...                                                  ...   \n",
       "Wallis and Futuna Islands                           93.4   \n",
       "Western Sahara                                     110.1   \n",
       "Yemen                                              102.1   \n",
       "Zambia                                              98.5   \n",
       "Zimbabwe                                            95.0   \n",
       "\n",
       "                          GDP growth rate (annual %, const. 2005 prices)  \\\n",
       "country                                                                    \n",
       "Afghanistan                                                         -2.4   \n",
       "Albania                                                              2.6   \n",
       "Algeria                                                              3.8   \n",
       "American Samoa                                                       NaN   \n",
       "Andorra                                                              0.8   \n",
       "...                                                                  ...   \n",
       "Wallis and Futuna Islands                                            NaN   \n",
       "Western Sahara                                                       NaN   \n",
       "Yemen                                                              -28.1   \n",
       "Zambia                                                               2.9   \n",
       "Zimbabwe                                                             1.1   \n",
       "\n",
       "                          energy_supply_per_capita  \n",
       "country                                             \n",
       "Afghanistan                              78.2/47.0  \n",
       "Albania                                  94.9/95.2  \n",
       "Algeria                                  84.3/81.8  \n",
       "American Samoa                         100.0/100.0  \n",
       "Andorra                                100.0/100.0  \n",
       "...                                            ...  \n",
       "Wallis and Futuna Islands                      NaN  \n",
       "Western Sahara                                 NaN  \n",
       "Yemen                                    72.0/46.5  \n",
       "Zambia                                   85.6/51.3  \n",
       "Zimbabwe                                 97.0/67.3  \n",
       "\n",
       "[229 rows x 11 columns]"
      ]
     },
     "execution_count": 26,
     "metadata": {},
     "output_type": "execute_result"
    }
   ],
   "source": [
    "undata2"
   ]
  },
  {
   "cell_type": "markdown",
   "metadata": {},
   "source": [
    "Three of our attributes have 2 separate values in them, broken up by a /. We only want to use the first value, so extract only the first 4 values of those strings (which gives us the percentage). This gives us numbers that we can work with for regression and correlation"
   ]
  },
  {
   "cell_type": "code",
   "execution_count": 27,
   "metadata": {},
   "outputs": [
    {
     "name": "stderr",
     "output_type": "stream",
     "text": [
      "/Users/rossurbina/.conda/envs/ENVIRONMENT/lib/python3.7/site-packages/ipykernel_launcher.py:4: SettingWithCopyWarning: \n",
      "A value is trying to be set on a copy of a slice from a DataFrame\n",
      "\n",
      "See the caveats in the documentation: https://pandas.pydata.org/pandas-docs/stable/user_guide/indexing.html#returning-a-view-versus-a-copy\n",
      "  after removing the cwd from sys.path.\n"
     ]
    }
   ],
   "source": [
    "j = 0\n",
    "for i in undata2.Female_labor_force.values:\n",
    "    if type(i) == str:\n",
    "        undata2.Female_labor_force[j] = i[:4]\n",
    "    j +=1"
   ]
  },
  {
   "cell_type": "code",
   "execution_count": 28,
   "metadata": {},
   "outputs": [
    {
     "name": "stderr",
     "output_type": "stream",
     "text": [
      "/Users/rossurbina/.conda/envs/ENVIRONMENT/lib/python3.7/site-packages/ipykernel_launcher.py:4: SettingWithCopyWarning: \n",
      "A value is trying to be set on a copy of a slice from a DataFrame\n",
      "\n",
      "See the caveats in the documentation: https://pandas.pydata.org/pandas-docs/stable/user_guide/indexing.html#returning-a-view-versus-a-copy\n",
      "  after removing the cwd from sys.path.\n"
     ]
    }
   ],
   "source": [
    "j = 0\n",
    "for i in undata2.urban_pop_using_drinking_water.values:\n",
    "    if type(i) == str:\n",
    "        undata2.urban_pop_using_drinking_water[j] = i[:4]\n",
    "    j +=1"
   ]
  },
  {
   "cell_type": "code",
   "execution_count": 29,
   "metadata": {},
   "outputs": [
    {
     "name": "stderr",
     "output_type": "stream",
     "text": [
      "/Users/rossurbina/.conda/envs/ENVIRONMENT/lib/python3.7/site-packages/ipykernel_launcher.py:4: SettingWithCopyWarning: \n",
      "A value is trying to be set on a copy of a slice from a DataFrame\n",
      "\n",
      "See the caveats in the documentation: https://pandas.pydata.org/pandas-docs/stable/user_guide/indexing.html#returning-a-view-versus-a-copy\n",
      "  after removing the cwd from sys.path.\n"
     ]
    }
   ],
   "source": [
    "j = 0\n",
    "for i in undata2.energy_supply_per_capita.values:\n",
    "    if type(i) == str:\n",
    "        undata2.energy_supply_per_capita[j] = i[:4]\n",
    "    j +=1"
   ]
  },
  {
   "cell_type": "code",
   "execution_count": 30,
   "metadata": {
    "scrolled": true
   },
   "outputs": [
    {
     "data": {
      "text/html": [
       "<div>\n",
       "<style scoped>\n",
       "    .dataframe tbody tr th:only-of-type {\n",
       "        vertical-align: middle;\n",
       "    }\n",
       "\n",
       "    .dataframe tbody tr th {\n",
       "        vertical-align: top;\n",
       "    }\n",
       "\n",
       "    .dataframe thead th {\n",
       "        text-align: right;\n",
       "    }\n",
       "</style>\n",
       "<table border=\"1\" class=\"dataframe\">\n",
       "  <thead>\n",
       "    <tr style=\"text-align: right;\">\n",
       "      <th></th>\n",
       "      <th>GDP per capita</th>\n",
       "      <th>Unemployment_rate</th>\n",
       "      <th>Female_labor_force</th>\n",
       "      <th>Health: Total expenditure (% of GDP)</th>\n",
       "      <th>Education: Government expenditure (% of GDP)</th>\n",
       "      <th>Seats held by women in national parliaments %</th>\n",
       "      <th>Individuals using the Internet (per 100 inhabitants)</th>\n",
       "      <th>urban_pop_using_drinking_water</th>\n",
       "      <th>Sex ratio (m per 100 f, 2017)</th>\n",
       "      <th>GDP growth rate (annual %, const. 2005 prices)</th>\n",
       "      <th>energy_supply_per_capita</th>\n",
       "    </tr>\n",
       "    <tr>\n",
       "      <th>country</th>\n",
       "      <th></th>\n",
       "      <th></th>\n",
       "      <th></th>\n",
       "      <th></th>\n",
       "      <th></th>\n",
       "      <th></th>\n",
       "      <th></th>\n",
       "      <th></th>\n",
       "      <th></th>\n",
       "      <th></th>\n",
       "      <th></th>\n",
       "    </tr>\n",
       "  </thead>\n",
       "  <tbody>\n",
       "    <tr>\n",
       "      <th>Afghanistan</th>\n",
       "      <td>623.2</td>\n",
       "      <td>8.6</td>\n",
       "      <td>19.3</td>\n",
       "      <td>8.2</td>\n",
       "      <td>3.3</td>\n",
       "      <td>27.7</td>\n",
       "      <td>42.0</td>\n",
       "      <td>45.1</td>\n",
       "      <td>106.3</td>\n",
       "      <td>-2.4</td>\n",
       "      <td>78.2</td>\n",
       "    </tr>\n",
       "    <tr>\n",
       "      <th>Albania</th>\n",
       "      <td>3984.2</td>\n",
       "      <td>15.8</td>\n",
       "      <td>40.2</td>\n",
       "      <td>5.9</td>\n",
       "      <td>3.5</td>\n",
       "      <td>22.9</td>\n",
       "      <td>130.0</td>\n",
       "      <td>95.5</td>\n",
       "      <td>101.9</td>\n",
       "      <td>2.6</td>\n",
       "      <td>94.9</td>\n",
       "    </tr>\n",
       "    <tr>\n",
       "      <th>Algeria</th>\n",
       "      <td>4154.1</td>\n",
       "      <td>11.4</td>\n",
       "      <td>17.0</td>\n",
       "      <td>7.2</td>\n",
       "      <td>NaN</td>\n",
       "      <td>31.6</td>\n",
       "      <td>135.0</td>\n",
       "      <td>89.8</td>\n",
       "      <td>102.0</td>\n",
       "      <td>3.8</td>\n",
       "      <td>84.3</td>\n",
       "    </tr>\n",
       "    <tr>\n",
       "      <th>American Samoa</th>\n",
       "      <td>NaN</td>\n",
       "      <td>NaN</td>\n",
       "      <td>NaN</td>\n",
       "      <td>NaN</td>\n",
       "      <td>NaN</td>\n",
       "      <td>NaN</td>\n",
       "      <td>92.0</td>\n",
       "      <td>62.5</td>\n",
       "      <td>103.6</td>\n",
       "      <td>NaN</td>\n",
       "      <td>100.</td>\n",
       "    </tr>\n",
       "    <tr>\n",
       "      <th>Andorra</th>\n",
       "      <td>39896.4</td>\n",
       "      <td>NaN</td>\n",
       "      <td>NaN</td>\n",
       "      <td>8.1</td>\n",
       "      <td>3.3</td>\n",
       "      <td>32.1</td>\n",
       "      <td>13.0</td>\n",
       "      <td>100.</td>\n",
       "      <td>102.3</td>\n",
       "      <td>0.8</td>\n",
       "      <td>100.</td>\n",
       "    </tr>\n",
       "    <tr>\n",
       "      <th>...</th>\n",
       "      <td>...</td>\n",
       "      <td>...</td>\n",
       "      <td>...</td>\n",
       "      <td>...</td>\n",
       "      <td>...</td>\n",
       "      <td>...</td>\n",
       "      <td>...</td>\n",
       "      <td>...</td>\n",
       "      <td>...</td>\n",
       "      <td>...</td>\n",
       "      <td>...</td>\n",
       "    </tr>\n",
       "    <tr>\n",
       "      <th>Wallis and Futuna Islands</th>\n",
       "      <td>NaN</td>\n",
       "      <td>NaN</td>\n",
       "      <td>NaN</td>\n",
       "      <td>NaN</td>\n",
       "      <td>NaN</td>\n",
       "      <td>NaN</td>\n",
       "      <td>89.0</td>\n",
       "      <td>NaN</td>\n",
       "      <td>93.4</td>\n",
       "      <td>NaN</td>\n",
       "      <td>NaN</td>\n",
       "    </tr>\n",
       "    <tr>\n",
       "      <th>Western Sahara</th>\n",
       "      <td>NaN</td>\n",
       "      <td>6.8</td>\n",
       "      <td>28.6</td>\n",
       "      <td>NaN</td>\n",
       "      <td>NaN</td>\n",
       "      <td>NaN</td>\n",
       "      <td>49.0</td>\n",
       "      <td>NaN</td>\n",
       "      <td>110.1</td>\n",
       "      <td>NaN</td>\n",
       "      <td>NaN</td>\n",
       "    </tr>\n",
       "    <tr>\n",
       "      <th>Yemen</th>\n",
       "      <td>1106.4</td>\n",
       "      <td>16.1</td>\n",
       "      <td>26.2</td>\n",
       "      <td>5.6</td>\n",
       "      <td>NaN</td>\n",
       "      <td>0.0</td>\n",
       "      <td>298.0</td>\n",
       "      <td>92.5</td>\n",
       "      <td>102.1</td>\n",
       "      <td>-28.1</td>\n",
       "      <td>72.0</td>\n",
       "    </tr>\n",
       "    <tr>\n",
       "      <th>Zambia</th>\n",
       "      <td>1311.1</td>\n",
       "      <td>7.4</td>\n",
       "      <td>69.9</td>\n",
       "      <td>5.0</td>\n",
       "      <td>NaN</td>\n",
       "      <td>18.0</td>\n",
       "      <td>88.0</td>\n",
       "      <td>55.6</td>\n",
       "      <td>98.5</td>\n",
       "      <td>2.9</td>\n",
       "      <td>85.6</td>\n",
       "    </tr>\n",
       "    <tr>\n",
       "      <th>Zimbabwe</th>\n",
       "      <td>890.4</td>\n",
       "      <td>5.0</td>\n",
       "      <td>78.0</td>\n",
       "      <td>6.0</td>\n",
       "      <td>8.4</td>\n",
       "      <td>32.6</td>\n",
       "      <td>89.0</td>\n",
       "      <td>49.3</td>\n",
       "      <td>95.0</td>\n",
       "      <td>1.1</td>\n",
       "      <td>97.0</td>\n",
       "    </tr>\n",
       "  </tbody>\n",
       "</table>\n",
       "<p>229 rows × 11 columns</p>\n",
       "</div>"
      ],
      "text/plain": [
       "                           GDP per capita Unemployment_rate  \\\n",
       "country                                                       \n",
       "Afghanistan                         623.2               8.6   \n",
       "Albania                            3984.2              15.8   \n",
       "Algeria                            4154.1              11.4   \n",
       "American Samoa                        NaN               NaN   \n",
       "Andorra                           39896.4               NaN   \n",
       "...                                   ...               ...   \n",
       "Wallis and Futuna Islands             NaN               NaN   \n",
       "Western Sahara                        NaN               6.8   \n",
       "Yemen                              1106.4              16.1   \n",
       "Zambia                             1311.1               7.4   \n",
       "Zimbabwe                            890.4               5.0   \n",
       "\n",
       "                          Female_labor_force  \\\n",
       "country                                        \n",
       "Afghanistan                             19.3   \n",
       "Albania                                 40.2   \n",
       "Algeria                                 17.0   \n",
       "American Samoa                           NaN   \n",
       "Andorra                                  NaN   \n",
       "...                                      ...   \n",
       "Wallis and Futuna Islands                NaN   \n",
       "Western Sahara                          28.6   \n",
       "Yemen                                   26.2   \n",
       "Zambia                                  69.9   \n",
       "Zimbabwe                                78.0   \n",
       "\n",
       "                           Health: Total expenditure (% of GDP)  \\\n",
       "country                                                           \n",
       "Afghanistan                                                 8.2   \n",
       "Albania                                                     5.9   \n",
       "Algeria                                                     7.2   \n",
       "American Samoa                                              NaN   \n",
       "Andorra                                                     8.1   \n",
       "...                                                         ...   \n",
       "Wallis and Futuna Islands                                   NaN   \n",
       "Western Sahara                                              NaN   \n",
       "Yemen                                                       5.6   \n",
       "Zambia                                                      5.0   \n",
       "Zimbabwe                                                    6.0   \n",
       "\n",
       "                          Education: Government expenditure (% of GDP)  \\\n",
       "country                                                                  \n",
       "Afghanistan                                                        3.3   \n",
       "Albania                                                            3.5   \n",
       "Algeria                                                            NaN   \n",
       "American Samoa                                                     NaN   \n",
       "Andorra                                                            3.3   \n",
       "...                                                                ...   \n",
       "Wallis and Futuna Islands                                          NaN   \n",
       "Western Sahara                                                     NaN   \n",
       "Yemen                                                              NaN   \n",
       "Zambia                                                             NaN   \n",
       "Zimbabwe                                                           8.4   \n",
       "\n",
       "                           Seats held by women in national parliaments %  \\\n",
       "country                                                                    \n",
       "Afghanistan                                                         27.7   \n",
       "Albania                                                             22.9   \n",
       "Algeria                                                             31.6   \n",
       "American Samoa                                                       NaN   \n",
       "Andorra                                                             32.1   \n",
       "...                                                                  ...   \n",
       "Wallis and Futuna Islands                                            NaN   \n",
       "Western Sahara                                                       NaN   \n",
       "Yemen                                                                0.0   \n",
       "Zambia                                                              18.0   \n",
       "Zimbabwe                                                            32.6   \n",
       "\n",
       "                           Individuals using the Internet (per 100 inhabitants)  \\\n",
       "country                                                                           \n",
       "Afghanistan                                                             42.0      \n",
       "Albania                                                                130.0      \n",
       "Algeria                                                                135.0      \n",
       "American Samoa                                                          92.0      \n",
       "Andorra                                                                 13.0      \n",
       "...                                                                      ...      \n",
       "Wallis and Futuna Islands                                               89.0      \n",
       "Western Sahara                                                          49.0      \n",
       "Yemen                                                                  298.0      \n",
       "Zambia                                                                  88.0      \n",
       "Zimbabwe                                                                89.0      \n",
       "\n",
       "                          urban_pop_using_drinking_water  \\\n",
       "country                                                    \n",
       "Afghanistan                                         45.1   \n",
       "Albania                                             95.5   \n",
       "Algeria                                             89.8   \n",
       "American Samoa                                      62.5   \n",
       "Andorra                                             100.   \n",
       "...                                                  ...   \n",
       "Wallis and Futuna Islands                            NaN   \n",
       "Western Sahara                                       NaN   \n",
       "Yemen                                               92.5   \n",
       "Zambia                                              55.6   \n",
       "Zimbabwe                                            49.3   \n",
       "\n",
       "                           Sex ratio (m per 100 f, 2017)  \\\n",
       "country                                                    \n",
       "Afghanistan                                        106.3   \n",
       "Albania                                            101.9   \n",
       "Algeria                                            102.0   \n",
       "American Samoa                                     103.6   \n",
       "Andorra                                            102.3   \n",
       "...                                                  ...   \n",
       "Wallis and Futuna Islands                           93.4   \n",
       "Western Sahara                                     110.1   \n",
       "Yemen                                              102.1   \n",
       "Zambia                                              98.5   \n",
       "Zimbabwe                                            95.0   \n",
       "\n",
       "                          GDP growth rate (annual %, const. 2005 prices)  \\\n",
       "country                                                                    \n",
       "Afghanistan                                                         -2.4   \n",
       "Albania                                                              2.6   \n",
       "Algeria                                                              3.8   \n",
       "American Samoa                                                       NaN   \n",
       "Andorra                                                              0.8   \n",
       "...                                                                  ...   \n",
       "Wallis and Futuna Islands                                            NaN   \n",
       "Western Sahara                                                       NaN   \n",
       "Yemen                                                              -28.1   \n",
       "Zambia                                                               2.9   \n",
       "Zimbabwe                                                             1.1   \n",
       "\n",
       "                          energy_supply_per_capita  \n",
       "country                                             \n",
       "Afghanistan                                   78.2  \n",
       "Albania                                       94.9  \n",
       "Algeria                                       84.3  \n",
       "American Samoa                                100.  \n",
       "Andorra                                       100.  \n",
       "...                                            ...  \n",
       "Wallis and Futuna Islands                      NaN  \n",
       "Western Sahara                                 NaN  \n",
       "Yemen                                         72.0  \n",
       "Zambia                                        85.6  \n",
       "Zimbabwe                                      97.0  \n",
       "\n",
       "[229 rows x 11 columns]"
      ]
     },
     "execution_count": 30,
     "metadata": {},
     "output_type": "execute_result"
    }
   ],
   "source": [
    "undata2"
   ]
  },
  {
   "cell_type": "markdown",
   "metadata": {},
   "source": [
    "Merge the undata2 df with the main df. Note that this df now contains attributes and values from all 3 of our datasets"
   ]
  },
  {
   "cell_type": "code",
   "execution_count": 31,
   "metadata": {},
   "outputs": [],
   "source": [
    "df2 = x.merge(undata2, how='left', left_on='country', right_on='country')"
   ]
  },
  {
   "cell_type": "markdown",
   "metadata": {},
   "source": [
    "Rename all of the columns and indices so there is no spaces or parentheses because those characters make it harder to do analysis"
   ]
  },
  {
   "cell_type": "code",
   "execution_count": 32,
   "metadata": {},
   "outputs": [],
   "source": [
    "df2.index = df2.index.str.replace(' ', '_')\n",
    "df2.columns = df2.columns.str.replace(' ', '_')\n",
    "df2.columns = df2.columns.str.replace('(', '')\n",
    "df2.columns = df2.columns.str.replace(')', '')"
   ]
  },
  {
   "cell_type": "markdown",
   "metadata": {},
   "source": [
    "Four attributes did not have their values as float values, but instead string (shown example below; uncomment to see example). To better analyze those numbers, we made them float values"
   ]
  },
  {
   "cell_type": "code",
   "execution_count": 33,
   "metadata": {},
   "outputs": [],
   "source": [
    "#df2.Unemployment_rate[3]\n",
    "#type(df2.Unemployment_rate[3])"
   ]
  },
  {
   "cell_type": "code",
   "execution_count": 34,
   "metadata": {},
   "outputs": [],
   "source": [
    "df2['Unemployment_rate'] = pd.to_numeric(df2['Unemployment_rate'])\n",
    "df2['Female_labor_force'] = pd.to_numeric(df2['Female_labor_force'])\n",
    "df2['Education:_Government_expenditure_%_of_GDP'] = pd.to_numeric(df2['Education:_Government_expenditure_%_of_GDP'])\n",
    "df2['urban_pop_using_drinking_water'] = pd.to_numeric(df2['urban_pop_using_drinking_water'])"
   ]
  },
  {
   "cell_type": "code",
   "execution_count": 35,
   "metadata": {},
   "outputs": [
    {
     "data": {
      "text/html": [
       "<div>\n",
       "<style scoped>\n",
       "    .dataframe tbody tr th:only-of-type {\n",
       "        vertical-align: middle;\n",
       "    }\n",
       "\n",
       "    .dataframe tbody tr th {\n",
       "        vertical-align: top;\n",
       "    }\n",
       "\n",
       "    .dataframe thead th {\n",
       "        text-align: right;\n",
       "    }\n",
       "</style>\n",
       "<table border=\"1\" class=\"dataframe\">\n",
       "  <thead>\n",
       "    <tr style=\"text-align: right;\">\n",
       "      <th></th>\n",
       "      <th>sex_female</th>\n",
       "      <th>suicides_per_100k</th>\n",
       "      <th>age_rank</th>\n",
       "      <th>Happiness_Score</th>\n",
       "      <th>Health_Life_Expectancy</th>\n",
       "      <th>Freedom</th>\n",
       "      <th>Trust_Government_Corruption</th>\n",
       "      <th>GDP_per_capita</th>\n",
       "      <th>Unemployment_rate</th>\n",
       "      <th>Female_labor_force</th>\n",
       "      <th>Health:_Total_expenditure_%_of_GDP</th>\n",
       "      <th>Education:_Government_expenditure_%_of_GDP</th>\n",
       "      <th>Seats_held_by_women_in_national_parliaments_%</th>\n",
       "      <th>Individuals_using_the_Internet_per_100_inhabitants</th>\n",
       "      <th>urban_pop_using_drinking_water</th>\n",
       "      <th>Sex_ratio_m_per_100_f,_2017</th>\n",
       "      <th>GDP_growth_rate_annual_%,_const._2005_prices</th>\n",
       "      <th>energy_supply_per_capita</th>\n",
       "    </tr>\n",
       "    <tr>\n",
       "      <th>country</th>\n",
       "      <th></th>\n",
       "      <th></th>\n",
       "      <th></th>\n",
       "      <th></th>\n",
       "      <th></th>\n",
       "      <th></th>\n",
       "      <th></th>\n",
       "      <th></th>\n",
       "      <th></th>\n",
       "      <th></th>\n",
       "      <th></th>\n",
       "      <th></th>\n",
       "      <th></th>\n",
       "      <th></th>\n",
       "      <th></th>\n",
       "      <th></th>\n",
       "      <th></th>\n",
       "      <th></th>\n",
       "    </tr>\n",
       "  </thead>\n",
       "  <tbody>\n",
       "    <tr>\n",
       "      <th>Antigua_and_Barbuda</th>\n",
       "      <td>1</td>\n",
       "      <td>15.617679</td>\n",
       "      <td>5.0</td>\n",
       "      <td>NaN</td>\n",
       "      <td>NaN</td>\n",
       "      <td>NaN</td>\n",
       "      <td>NaN</td>\n",
       "      <td>14764.5</td>\n",
       "      <td>NaN</td>\n",
       "      <td>NaN</td>\n",
       "      <td>5.5</td>\n",
       "      <td>NaN</td>\n",
       "      <td>11.1</td>\n",
       "      <td>55.0</td>\n",
       "      <td>91.4</td>\n",
       "      <td>92.3</td>\n",
       "      <td>4.1</td>\n",
       "      <td>97.9</td>\n",
       "    </tr>\n",
       "    <tr>\n",
       "      <th>Argentina</th>\n",
       "      <td>1</td>\n",
       "      <td>4.507688</td>\n",
       "      <td>2.0</td>\n",
       "      <td>6.650</td>\n",
       "      <td>0.69711</td>\n",
       "      <td>0.42284</td>\n",
       "      <td>0.07296</td>\n",
       "      <td>14564.5</td>\n",
       "      <td>6.5</td>\n",
       "      <td>48.6</td>\n",
       "      <td>4.8</td>\n",
       "      <td>5.3</td>\n",
       "      <td>38.9</td>\n",
       "      <td>256.0</td>\n",
       "      <td>96.2</td>\n",
       "      <td>95.9</td>\n",
       "      <td>2.4</td>\n",
       "      <td>99.0</td>\n",
       "    </tr>\n",
       "    <tr>\n",
       "      <th>Argentina</th>\n",
       "      <td>1</td>\n",
       "      <td>3.523323</td>\n",
       "      <td>3.0</td>\n",
       "      <td>6.650</td>\n",
       "      <td>0.69711</td>\n",
       "      <td>0.42284</td>\n",
       "      <td>0.07296</td>\n",
       "      <td>14564.5</td>\n",
       "      <td>6.5</td>\n",
       "      <td>48.6</td>\n",
       "      <td>4.8</td>\n",
       "      <td>5.3</td>\n",
       "      <td>38.9</td>\n",
       "      <td>256.0</td>\n",
       "      <td>96.2</td>\n",
       "      <td>95.9</td>\n",
       "      <td>2.4</td>\n",
       "      <td>99.0</td>\n",
       "    </tr>\n",
       "    <tr>\n",
       "      <th>Argentina</th>\n",
       "      <td>1</td>\n",
       "      <td>3.131267</td>\n",
       "      <td>4.0</td>\n",
       "      <td>6.650</td>\n",
       "      <td>0.69711</td>\n",
       "      <td>0.42284</td>\n",
       "      <td>0.07296</td>\n",
       "      <td>14564.5</td>\n",
       "      <td>6.5</td>\n",
       "      <td>48.6</td>\n",
       "      <td>4.8</td>\n",
       "      <td>5.3</td>\n",
       "      <td>38.9</td>\n",
       "      <td>256.0</td>\n",
       "      <td>96.2</td>\n",
       "      <td>95.9</td>\n",
       "      <td>2.4</td>\n",
       "      <td>99.0</td>\n",
       "    </tr>\n",
       "    <tr>\n",
       "      <th>Argentina</th>\n",
       "      <td>1</td>\n",
       "      <td>0.535329</td>\n",
       "      <td>1.0</td>\n",
       "      <td>6.650</td>\n",
       "      <td>0.69711</td>\n",
       "      <td>0.42284</td>\n",
       "      <td>0.07296</td>\n",
       "      <td>14564.5</td>\n",
       "      <td>6.5</td>\n",
       "      <td>48.6</td>\n",
       "      <td>4.8</td>\n",
       "      <td>5.3</td>\n",
       "      <td>38.9</td>\n",
       "      <td>256.0</td>\n",
       "      <td>96.2</td>\n",
       "      <td>95.9</td>\n",
       "      <td>2.4</td>\n",
       "      <td>99.0</td>\n",
       "    </tr>\n",
       "    <tr>\n",
       "      <th>...</th>\n",
       "      <td>...</td>\n",
       "      <td>...</td>\n",
       "      <td>...</td>\n",
       "      <td>...</td>\n",
       "      <td>...</td>\n",
       "      <td>...</td>\n",
       "      <td>...</td>\n",
       "      <td>...</td>\n",
       "      <td>...</td>\n",
       "      <td>...</td>\n",
       "      <td>...</td>\n",
       "      <td>...</td>\n",
       "      <td>...</td>\n",
       "      <td>...</td>\n",
       "      <td>...</td>\n",
       "      <td>...</td>\n",
       "      <td>...</td>\n",
       "      <td>...</td>\n",
       "    </tr>\n",
       "    <tr>\n",
       "      <th>Uruguay</th>\n",
       "      <td>0</td>\n",
       "      <td>1.188076</td>\n",
       "      <td>1.0</td>\n",
       "      <td>6.545</td>\n",
       "      <td>0.72183</td>\n",
       "      <td>0.54388</td>\n",
       "      <td>0.21394</td>\n",
       "      <td>15573.8</td>\n",
       "      <td>8.8</td>\n",
       "      <td>55.6</td>\n",
       "      <td>8.6</td>\n",
       "      <td>4.4</td>\n",
       "      <td>20.2</td>\n",
       "      <td>106.0</td>\n",
       "      <td>96.6</td>\n",
       "      <td>93.5</td>\n",
       "      <td>1.0</td>\n",
       "      <td>100.</td>\n",
       "    </tr>\n",
       "    <tr>\n",
       "      <th>Uruguay</th>\n",
       "      <td>0</td>\n",
       "      <td>47.864109</td>\n",
       "      <td>5.0</td>\n",
       "      <td>6.545</td>\n",
       "      <td>0.72183</td>\n",
       "      <td>0.54388</td>\n",
       "      <td>0.21394</td>\n",
       "      <td>15573.8</td>\n",
       "      <td>8.8</td>\n",
       "      <td>55.6</td>\n",
       "      <td>8.6</td>\n",
       "      <td>4.4</td>\n",
       "      <td>20.2</td>\n",
       "      <td>106.0</td>\n",
       "      <td>96.6</td>\n",
       "      <td>93.5</td>\n",
       "      <td>1.0</td>\n",
       "      <td>100.</td>\n",
       "    </tr>\n",
       "    <tr>\n",
       "      <th>Uruguay</th>\n",
       "      <td>0</td>\n",
       "      <td>73.421439</td>\n",
       "      <td>6.0</td>\n",
       "      <td>6.545</td>\n",
       "      <td>0.72183</td>\n",
       "      <td>0.54388</td>\n",
       "      <td>0.21394</td>\n",
       "      <td>15573.8</td>\n",
       "      <td>8.8</td>\n",
       "      <td>55.6</td>\n",
       "      <td>8.6</td>\n",
       "      <td>4.4</td>\n",
       "      <td>20.2</td>\n",
       "      <td>106.0</td>\n",
       "      <td>96.6</td>\n",
       "      <td>93.5</td>\n",
       "      <td>1.0</td>\n",
       "      <td>100.</td>\n",
       "    </tr>\n",
       "    <tr>\n",
       "      <th>Virgin_Islands_(USA)</th>\n",
       "      <td>0</td>\n",
       "      <td>43.393361</td>\n",
       "      <td>3.0</td>\n",
       "      <td>NaN</td>\n",
       "      <td>NaN</td>\n",
       "      <td>NaN</td>\n",
       "      <td>NaN</td>\n",
       "      <td>NaN</td>\n",
       "      <td>NaN</td>\n",
       "      <td>NaN</td>\n",
       "      <td>NaN</td>\n",
       "      <td>NaN</td>\n",
       "      <td>NaN</td>\n",
       "      <td>NaN</td>\n",
       "      <td>NaN</td>\n",
       "      <td>NaN</td>\n",
       "      <td>NaN</td>\n",
       "      <td>NaN</td>\n",
       "    </tr>\n",
       "    <tr>\n",
       "      <th>Virgin_Islands_(USA)</th>\n",
       "      <td>0</td>\n",
       "      <td>7.989773</td>\n",
       "      <td>4.0</td>\n",
       "      <td>NaN</td>\n",
       "      <td>NaN</td>\n",
       "      <td>NaN</td>\n",
       "      <td>NaN</td>\n",
       "      <td>NaN</td>\n",
       "      <td>NaN</td>\n",
       "      <td>NaN</td>\n",
       "      <td>NaN</td>\n",
       "      <td>NaN</td>\n",
       "      <td>NaN</td>\n",
       "      <td>NaN</td>\n",
       "      <td>NaN</td>\n",
       "      <td>NaN</td>\n",
       "      <td>NaN</td>\n",
       "      <td>NaN</td>\n",
       "    </tr>\n",
       "  </tbody>\n",
       "</table>\n",
       "<p>723 rows × 18 columns</p>\n",
       "</div>"
      ],
      "text/plain": [
       "                      sex_female  suicides_per_100k  age_rank  \\\n",
       "country                                                         \n",
       "Antigua_and_Barbuda            1          15.617679       5.0   \n",
       "Argentina                      1           4.507688       2.0   \n",
       "Argentina                      1           3.523323       3.0   \n",
       "Argentina                      1           3.131267       4.0   \n",
       "Argentina                      1           0.535329       1.0   \n",
       "...                          ...                ...       ...   \n",
       "Uruguay                        0           1.188076       1.0   \n",
       "Uruguay                        0          47.864109       5.0   \n",
       "Uruguay                        0          73.421439       6.0   \n",
       "Virgin_Islands_(USA)           0          43.393361       3.0   \n",
       "Virgin_Islands_(USA)           0           7.989773       4.0   \n",
       "\n",
       "                      Happiness_Score  Health_Life_Expectancy  Freedom  \\\n",
       "country                                                                  \n",
       "Antigua_and_Barbuda               NaN                     NaN      NaN   \n",
       "Argentina                       6.650                 0.69711  0.42284   \n",
       "Argentina                       6.650                 0.69711  0.42284   \n",
       "Argentina                       6.650                 0.69711  0.42284   \n",
       "Argentina                       6.650                 0.69711  0.42284   \n",
       "...                               ...                     ...      ...   \n",
       "Uruguay                         6.545                 0.72183  0.54388   \n",
       "Uruguay                         6.545                 0.72183  0.54388   \n",
       "Uruguay                         6.545                 0.72183  0.54388   \n",
       "Virgin_Islands_(USA)              NaN                     NaN      NaN   \n",
       "Virgin_Islands_(USA)              NaN                     NaN      NaN   \n",
       "\n",
       "                      Trust_Government_Corruption  GDP_per_capita  \\\n",
       "country                                                             \n",
       "Antigua_and_Barbuda                           NaN         14764.5   \n",
       "Argentina                                 0.07296         14564.5   \n",
       "Argentina                                 0.07296         14564.5   \n",
       "Argentina                                 0.07296         14564.5   \n",
       "Argentina                                 0.07296         14564.5   \n",
       "...                                           ...             ...   \n",
       "Uruguay                                   0.21394         15573.8   \n",
       "Uruguay                                   0.21394         15573.8   \n",
       "Uruguay                                   0.21394         15573.8   \n",
       "Virgin_Islands_(USA)                          NaN             NaN   \n",
       "Virgin_Islands_(USA)                          NaN             NaN   \n",
       "\n",
       "                      Unemployment_rate  Female_labor_force  \\\n",
       "country                                                       \n",
       "Antigua_and_Barbuda                 NaN                 NaN   \n",
       "Argentina                           6.5                48.6   \n",
       "Argentina                           6.5                48.6   \n",
       "Argentina                           6.5                48.6   \n",
       "Argentina                           6.5                48.6   \n",
       "...                                 ...                 ...   \n",
       "Uruguay                             8.8                55.6   \n",
       "Uruguay                             8.8                55.6   \n",
       "Uruguay                             8.8                55.6   \n",
       "Virgin_Islands_(USA)                NaN                 NaN   \n",
       "Virgin_Islands_(USA)                NaN                 NaN   \n",
       "\n",
       "                      Health:_Total_expenditure_%_of_GDP  \\\n",
       "country                                                    \n",
       "Antigua_and_Barbuda                                  5.5   \n",
       "Argentina                                            4.8   \n",
       "Argentina                                            4.8   \n",
       "Argentina                                            4.8   \n",
       "Argentina                                            4.8   \n",
       "...                                                  ...   \n",
       "Uruguay                                              8.6   \n",
       "Uruguay                                              8.6   \n",
       "Uruguay                                              8.6   \n",
       "Virgin_Islands_(USA)                                 NaN   \n",
       "Virgin_Islands_(USA)                                 NaN   \n",
       "\n",
       "                      Education:_Government_expenditure_%_of_GDP  \\\n",
       "country                                                            \n",
       "Antigua_and_Barbuda                                          NaN   \n",
       "Argentina                                                    5.3   \n",
       "Argentina                                                    5.3   \n",
       "Argentina                                                    5.3   \n",
       "Argentina                                                    5.3   \n",
       "...                                                          ...   \n",
       "Uruguay                                                      4.4   \n",
       "Uruguay                                                      4.4   \n",
       "Uruguay                                                      4.4   \n",
       "Virgin_Islands_(USA)                                         NaN   \n",
       "Virgin_Islands_(USA)                                         NaN   \n",
       "\n",
       "                      Seats_held_by_women_in_national_parliaments_%  \\\n",
       "country                                                               \n",
       "Antigua_and_Barbuda                                            11.1   \n",
       "Argentina                                                      38.9   \n",
       "Argentina                                                      38.9   \n",
       "Argentina                                                      38.9   \n",
       "Argentina                                                      38.9   \n",
       "...                                                             ...   \n",
       "Uruguay                                                        20.2   \n",
       "Uruguay                                                        20.2   \n",
       "Uruguay                                                        20.2   \n",
       "Virgin_Islands_(USA)                                            NaN   \n",
       "Virgin_Islands_(USA)                                            NaN   \n",
       "\n",
       "                      Individuals_using_the_Internet_per_100_inhabitants  \\\n",
       "country                                                                    \n",
       "Antigua_and_Barbuda                                                55.0    \n",
       "Argentina                                                         256.0    \n",
       "Argentina                                                         256.0    \n",
       "Argentina                                                         256.0    \n",
       "Argentina                                                         256.0    \n",
       "...                                                                 ...    \n",
       "Uruguay                                                           106.0    \n",
       "Uruguay                                                           106.0    \n",
       "Uruguay                                                           106.0    \n",
       "Virgin_Islands_(USA)                                                NaN    \n",
       "Virgin_Islands_(USA)                                                NaN    \n",
       "\n",
       "                      urban_pop_using_drinking_water  \\\n",
       "country                                                \n",
       "Antigua_and_Barbuda                             91.4   \n",
       "Argentina                                       96.2   \n",
       "Argentina                                       96.2   \n",
       "Argentina                                       96.2   \n",
       "Argentina                                       96.2   \n",
       "...                                              ...   \n",
       "Uruguay                                         96.6   \n",
       "Uruguay                                         96.6   \n",
       "Uruguay                                         96.6   \n",
       "Virgin_Islands_(USA)                             NaN   \n",
       "Virgin_Islands_(USA)                             NaN   \n",
       "\n",
       "                      Sex_ratio_m_per_100_f,_2017  \\\n",
       "country                                             \n",
       "Antigua_and_Barbuda                          92.3   \n",
       "Argentina                                    95.9   \n",
       "Argentina                                    95.9   \n",
       "Argentina                                    95.9   \n",
       "Argentina                                    95.9   \n",
       "...                                           ...   \n",
       "Uruguay                                      93.5   \n",
       "Uruguay                                      93.5   \n",
       "Uruguay                                      93.5   \n",
       "Virgin_Islands_(USA)                          NaN   \n",
       "Virgin_Islands_(USA)                          NaN   \n",
       "\n",
       "                     GDP_growth_rate_annual_%,_const._2005_prices  \\\n",
       "country                                                             \n",
       "Antigua_and_Barbuda                                           4.1   \n",
       "Argentina                                                     2.4   \n",
       "Argentina                                                     2.4   \n",
       "Argentina                                                     2.4   \n",
       "Argentina                                                     2.4   \n",
       "...                                                           ...   \n",
       "Uruguay                                                       1.0   \n",
       "Uruguay                                                       1.0   \n",
       "Uruguay                                                       1.0   \n",
       "Virgin_Islands_(USA)                                          NaN   \n",
       "Virgin_Islands_(USA)                                          NaN   \n",
       "\n",
       "                     energy_supply_per_capita  \n",
       "country                                        \n",
       "Antigua_and_Barbuda                      97.9  \n",
       "Argentina                                99.0  \n",
       "Argentina                                99.0  \n",
       "Argentina                                99.0  \n",
       "Argentina                                99.0  \n",
       "...                                       ...  \n",
       "Uruguay                                  100.  \n",
       "Uruguay                                  100.  \n",
       "Uruguay                                  100.  \n",
       "Virgin_Islands_(USA)                      NaN  \n",
       "Virgin_Islands_(USA)                      NaN  \n",
       "\n",
       "[723 rows x 18 columns]"
      ]
     },
     "execution_count": 35,
     "metadata": {},
     "output_type": "execute_result"
    }
   ],
   "source": [
    "df2"
   ]
  },
  {
   "cell_type": "markdown",
   "metadata": {},
   "source": [
    "Correlation can handle NaN values, but regression analysis can't. Therefore, use this df for the correlation, but remove the NaN values later for regression analysis"
   ]
  },
  {
   "cell_type": "markdown",
   "metadata": {},
   "source": [
    "### Correlation"
   ]
  },
  {
   "cell_type": "markdown",
   "metadata": {},
   "source": [
    "Find which values are the most correlated with suicides_per_100k"
   ]
  },
  {
   "cell_type": "code",
   "execution_count": 36,
   "metadata": {},
   "outputs": [],
   "source": [
    "correlations = df2.corr().suicides_per_100k.sort_values(ascending=False)"
   ]
  },
  {
   "cell_type": "code",
   "execution_count": 37,
   "metadata": {
    "scrolled": true
   },
   "outputs": [
    {
     "data": {
      "text/plain": [
       "suicides_per_100k                                     1.000000\n",
       "age_rank                                              0.419354\n",
       "urban_pop_using_drinking_water                        0.135882\n",
       "Female_labor_force                                    0.117657\n",
       "Health_Life_Expectancy                                0.090074\n",
       "Health:_Total_expenditure_%_of_GDP                    0.085131\n",
       "Education:_Government_expenditure_%_of_GDP            0.044647\n",
       "GDP_per_capita                                        0.027449\n",
       "Happiness_Score                                       0.014665\n",
       "Seats_held_by_women_in_national_parliaments_%        -0.002457\n",
       "Freedom                                              -0.008699\n",
       "Trust_Government_Corruption                          -0.034875\n",
       "Sex_ratio_m_per_100_f,_2017                          -0.097790\n",
       "Unemployment_rate                                    -0.103799\n",
       "Individuals_using_the_Internet_per_100_inhabitants   -0.117958\n",
       "sex_female                                           -0.438431\n",
       "Name: suicides_per_100k, dtype: float64"
      ]
     },
     "execution_count": 37,
     "metadata": {},
     "output_type": "execute_result"
    }
   ],
   "source": [
    "correlations "
   ]
  },
  {
   "cell_type": "markdown",
   "metadata": {},
   "source": [
    "We want to eliminate the self-correlating values (those equal to 1). We will do this with a mask and then drop the na values before sorting them in order. The sorting is to help with the graphing we will do later on."
   ]
  },
  {
   "cell_type": "code",
   "execution_count": 38,
   "metadata": {},
   "outputs": [],
   "source": [
    "cor = df2.corr()\n",
    "cor = cor[cor<1]\n",
    "correlations = cor.suicides_per_100k.dropna()\n",
    "correlations = correlations.sort_values(ascending = False)"
   ]
  },
  {
   "cell_type": "code",
   "execution_count": 39,
   "metadata": {},
   "outputs": [],
   "source": [
    "df_corr = pd.DataFrame.from_dict(correlations)"
   ]
  },
  {
   "cell_type": "markdown",
   "metadata": {},
   "source": [
    "Create a new dataframe that will help with the graphs later on and reset the index"
   ]
  },
  {
   "cell_type": "code",
   "execution_count": 40,
   "metadata": {},
   "outputs": [
    {
     "data": {
      "text/html": [
       "<div>\n",
       "<style scoped>\n",
       "    .dataframe tbody tr th:only-of-type {\n",
       "        vertical-align: middle;\n",
       "    }\n",
       "\n",
       "    .dataframe tbody tr th {\n",
       "        vertical-align: top;\n",
       "    }\n",
       "\n",
       "    .dataframe thead th {\n",
       "        text-align: right;\n",
       "    }\n",
       "</style>\n",
       "<table border=\"1\" class=\"dataframe\">\n",
       "  <thead>\n",
       "    <tr style=\"text-align: right;\">\n",
       "      <th></th>\n",
       "      <th>suicides_per_100k</th>\n",
       "    </tr>\n",
       "  </thead>\n",
       "  <tbody>\n",
       "    <tr>\n",
       "      <th>age_rank</th>\n",
       "      <td>0.419354</td>\n",
       "    </tr>\n",
       "    <tr>\n",
       "      <th>urban_pop_using_drinking_water</th>\n",
       "      <td>0.135882</td>\n",
       "    </tr>\n",
       "    <tr>\n",
       "      <th>Female_labor_force</th>\n",
       "      <td>0.117657</td>\n",
       "    </tr>\n",
       "    <tr>\n",
       "      <th>Health_Life_Expectancy</th>\n",
       "      <td>0.090074</td>\n",
       "    </tr>\n",
       "    <tr>\n",
       "      <th>Health:_Total_expenditure_%_of_GDP</th>\n",
       "      <td>0.085131</td>\n",
       "    </tr>\n",
       "    <tr>\n",
       "      <th>Education:_Government_expenditure_%_of_GDP</th>\n",
       "      <td>0.044647</td>\n",
       "    </tr>\n",
       "    <tr>\n",
       "      <th>GDP_per_capita</th>\n",
       "      <td>0.027449</td>\n",
       "    </tr>\n",
       "    <tr>\n",
       "      <th>Happiness_Score</th>\n",
       "      <td>0.014665</td>\n",
       "    </tr>\n",
       "    <tr>\n",
       "      <th>Seats_held_by_women_in_national_parliaments_%</th>\n",
       "      <td>-0.002457</td>\n",
       "    </tr>\n",
       "    <tr>\n",
       "      <th>Freedom</th>\n",
       "      <td>-0.008699</td>\n",
       "    </tr>\n",
       "    <tr>\n",
       "      <th>Trust_Government_Corruption</th>\n",
       "      <td>-0.034875</td>\n",
       "    </tr>\n",
       "    <tr>\n",
       "      <th>Sex_ratio_m_per_100_f,_2017</th>\n",
       "      <td>-0.097790</td>\n",
       "    </tr>\n",
       "    <tr>\n",
       "      <th>Unemployment_rate</th>\n",
       "      <td>-0.103799</td>\n",
       "    </tr>\n",
       "    <tr>\n",
       "      <th>Individuals_using_the_Internet_per_100_inhabitants</th>\n",
       "      <td>-0.117958</td>\n",
       "    </tr>\n",
       "    <tr>\n",
       "      <th>sex_female</th>\n",
       "      <td>-0.438431</td>\n",
       "    </tr>\n",
       "  </tbody>\n",
       "</table>\n",
       "</div>"
      ],
      "text/plain": [
       "                                                    suicides_per_100k\n",
       "age_rank                                                     0.419354\n",
       "urban_pop_using_drinking_water                               0.135882\n",
       "Female_labor_force                                           0.117657\n",
       "Health_Life_Expectancy                                       0.090074\n",
       "Health:_Total_expenditure_%_of_GDP                           0.085131\n",
       "Education:_Government_expenditure_%_of_GDP                   0.044647\n",
       "GDP_per_capita                                               0.027449\n",
       "Happiness_Score                                              0.014665\n",
       "Seats_held_by_women_in_national_parliaments_%               -0.002457\n",
       "Freedom                                                     -0.008699\n",
       "Trust_Government_Corruption                                 -0.034875\n",
       "Sex_ratio_m_per_100_f,_2017                                 -0.097790\n",
       "Unemployment_rate                                           -0.103799\n",
       "Individuals_using_the_Internet_per_100_inhabitants          -0.117958\n",
       "sex_female                                                  -0.438431"
      ]
     },
     "execution_count": 40,
     "metadata": {},
     "output_type": "execute_result"
    }
   ],
   "source": [
    "df_corr"
   ]
  },
  {
   "cell_type": "code",
   "execution_count": 41,
   "metadata": {},
   "outputs": [],
   "source": [
    "df_corr =df_corr.reset_index().rename(columns = {'index':'attributes'})"
   ]
  },
  {
   "cell_type": "markdown",
   "metadata": {},
   "source": [
    "### Graphs & Visualizations"
   ]
  },
  {
   "cell_type": "markdown",
   "metadata": {},
   "source": [
    "In order to see the correlations in a visual format, we will use the dataframe we just created to graph a bar chart."
   ]
  },
  {
   "cell_type": "code",
   "execution_count": 42,
   "metadata": {},
   "outputs": [
    {
     "data": {
      "text/plain": [
       "<seaborn.axisgrid.FacetGrid at 0x7fe58143e210>"
      ]
     },
     "execution_count": 42,
     "metadata": {},
     "output_type": "execute_result"
    },
    {
     "data": {
      "image/png": "[encoded data removed]",
      "text/plain": [
       "<Figure size 720x360 with 1 Axes>"
      ]
     },
     "metadata": {
      "needs_background": "light"
     },
     "output_type": "display_data"
    }
   ],
   "source": [
    "sns.catplot(x = 'suicides_per_100k', y = 'attributes', data = df_corr, kind = 'bar', aspect= 2)"
   ]
  },
  {
   "cell_type": "markdown",
   "metadata": {},
   "source": [
    "As seen in the above graph, age is the most positively correlated factor. We will seperate age column into bins in order to create a graph that shows this positive correlation. "
   ]
  },
  {
   "cell_type": "code",
   "execution_count": 43,
   "metadata": {},
   "outputs": [
    {
     "name": "stderr",
     "output_type": "stream",
     "text": [
      "/Users/rossurbina/.conda/envs/ENVIRONMENT/lib/python3.7/site-packages/ipykernel_launcher.py:1: SettingWithCopyWarning: \n",
      "A value is trying to be set on a copy of a slice from a DataFrame.\n",
      "Try using .loc[row_indexer,col_indexer] = value instead\n",
      "\n",
      "See the caveats in the documentation: https://pandas.pydata.org/pandas-docs/stable/user_guide/indexing.html#returning-a-view-versus-a-copy\n",
      "  \"\"\"Entry point for launching an IPython kernel.\n"
     ]
    }
   ],
   "source": [
    "df['age_bin'] = pd.cut(df.age_rank, bins = [0, 1, 2, 3, 4, 5, 6]) "
   ]
  },
  {
   "cell_type": "code",
   "execution_count": 44,
   "metadata": {},
   "outputs": [
    {
     "data": {
      "text/plain": [
       "<seaborn.axisgrid.FacetGrid at 0x7fe581eeae50>"
      ]
     },
     "execution_count": 44,
     "metadata": {},
     "output_type": "execute_result"
    },
    {
     "data": {
      "image/png": "[encoded data removed]",
      "text/plain": [
       "<Figure size 360x360 with 1 Axes>"
      ]
     },
     "metadata": {
      "needs_background": "light"
     },
     "output_type": "display_data"
    }
   ],
   "source": [
    "sns.catplot(x = 'age_bin', y = 'suicides_per_100k', data = df, kind = 'bar')"
   ]
  },
  {
   "cell_type": "markdown",
   "metadata": {},
   "source": [
    "There are hardly any suicides in the 5-14 age category, and there are the most suicides in the 75+ group. There is a steady increase between the middle 4 rankings"
   ]
  },
  {
   "cell_type": "code",
   "execution_count": 45,
   "metadata": {},
   "outputs": [
    {
     "name": "stderr",
     "output_type": "stream",
     "text": [
      "/Users/rossurbina/.conda/envs/ENVIRONMENT/lib/python3.7/site-packages/pandas/core/frame.py:4174: SettingWithCopyWarning: \n",
      "A value is trying to be set on a copy of a slice from a DataFrame\n",
      "\n",
      "See the caveats in the documentation: https://pandas.pydata.org/pandas-docs/stable/user_guide/indexing.html#returning-a-view-versus-a-copy\n",
      "  errors=errors,\n"
     ]
    }
   ],
   "source": [
    "df.drop(columns = 'age_bin', inplace = True)"
   ]
  },
  {
   "cell_type": "markdown",
   "metadata": {},
   "source": [
    "As seen in the graph of correlations, being female is the most negatively correlated attribute, so we will create a graph to show that men have higher suicide rates. "
   ]
  },
  {
   "cell_type": "code",
   "execution_count": 46,
   "metadata": {},
   "outputs": [
    {
     "data": {
      "text/plain": [
       "<seaborn.axisgrid.FacetGrid at 0x7fe582240e50>"
      ]
     },
     "execution_count": 46,
     "metadata": {},
     "output_type": "execute_result"
    },
    {
     "data": {
      "image/png": "[encoded data removed]",
      "text/plain": [
       "<Figure size 360x360 with 1 Axes>"
      ]
     },
     "metadata": {
      "needs_background": "light"
     },
     "output_type": "display_data"
    }
   ],
   "source": [
    "sns.catplot(x = 'sex_female', y = 'suicides_per_100k', data = df2, kind = 'bar')"
   ]
  },
  {
   "cell_type": "markdown",
   "metadata": {},
   "source": [
    "We would would like to examine the countries with the most suicides. We will create a new series sorted into the top 5 suicide numbers by country before turning that series into a dataframe which we can use to graph the top 5."
   ]
  },
  {
   "cell_type": "code",
   "execution_count": 47,
   "metadata": {
    "scrolled": true
   },
   "outputs": [
    {
     "data": {
      "text/html": [
       "<div>\n",
       "<style scoped>\n",
       "    .dataframe tbody tr th:only-of-type {\n",
       "        vertical-align: middle;\n",
       "    }\n",
       "\n",
       "    .dataframe tbody tr th {\n",
       "        vertical-align: top;\n",
       "    }\n",
       "\n",
       "    .dataframe thead th {\n",
       "        text-align: right;\n",
       "    }\n",
       "</style>\n",
       "<table border=\"1\" class=\"dataframe\">\n",
       "  <thead>\n",
       "    <tr style=\"text-align: right;\">\n",
       "      <th></th>\n",
       "      <th>country</th>\n",
       "      <th>suicides_per_100k</th>\n",
       "    </tr>\n",
       "  </thead>\n",
       "  <tbody>\n",
       "    <tr>\n",
       "      <th>0</th>\n",
       "      <td>Republic of Korea</td>\n",
       "      <td>140.741557</td>\n",
       "    </tr>\n",
       "    <tr>\n",
       "      <th>1</th>\n",
       "      <td>Slovenia</td>\n",
       "      <td>99.446628</td>\n",
       "    </tr>\n",
       "    <tr>\n",
       "      <th>2</th>\n",
       "      <td>Hungary</td>\n",
       "      <td>91.424316</td>\n",
       "    </tr>\n",
       "    <tr>\n",
       "      <th>3</th>\n",
       "      <td>Lithuania</td>\n",
       "      <td>84.094789</td>\n",
       "    </tr>\n",
       "    <tr>\n",
       "      <th>4</th>\n",
       "      <td>Serbia</td>\n",
       "      <td>82.624757</td>\n",
       "    </tr>\n",
       "  </tbody>\n",
       "</table>\n",
       "</div>"
      ],
      "text/plain": [
       "             country  suicides_per_100k\n",
       "0  Republic of Korea         140.741557\n",
       "1           Slovenia          99.446628\n",
       "2            Hungary          91.424316\n",
       "3          Lithuania          84.094789\n",
       "4             Serbia          82.624757"
      ]
     },
     "execution_count": 47,
     "metadata": {},
     "output_type": "execute_result"
    }
   ],
   "source": [
    "top5 = df.suicides_per_100k.sort_values(ascending = False).head(5)\n",
    "top5 = top5.to_frame().reset_index()\n",
    "top5"
   ]
  },
  {
   "cell_type": "code",
   "execution_count": 48,
   "metadata": {},
   "outputs": [
    {
     "data": {
      "text/plain": [
       "<seaborn.axisgrid.FacetGrid at 0x7fe5822a12d0>"
      ]
     },
     "execution_count": 48,
     "metadata": {},
     "output_type": "execute_result"
    },
    {
     "data": {
      "image/png": "[encoded data removed]",
      "text/plain": [
       "<Figure size 360x360 with 1 Axes>"
      ]
     },
     "metadata": {
      "needs_background": "light"
     },
     "output_type": "display_data"
    }
   ],
   "source": [
    "sns.catplot(x = 'country', y = 'suicides_per_100k', data = top5, kind = 'bar')"
   ]
  },
  {
   "cell_type": "markdown",
   "metadata": {},
   "source": [
    "The Republic of Korea has significantly more suicides per 100k than any other countries, with almost 50% more than the country with the 2nd highest suicide rate"
   ]
  },
  {
   "cell_type": "markdown",
   "metadata": {},
   "source": [
    "### Regression Analysis"
   ]
  },
  {
   "cell_type": "markdown",
   "metadata": {},
   "source": [
    "Drop the NaN values from our dataset. Note: we did this after correlations because NaN values are okay for correlation, so it gives more data to work with. "
   ]
  },
  {
   "cell_type": "code",
   "execution_count": 49,
   "metadata": {},
   "outputs": [],
   "source": [
    "df2 = df2.dropna()"
   ]
  },
  {
   "cell_type": "code",
   "execution_count": 50,
   "metadata": {
    "scrolled": true
   },
   "outputs": [
    {
     "data": {
      "text/html": [
       "<div>\n",
       "<style scoped>\n",
       "    .dataframe tbody tr th:only-of-type {\n",
       "        vertical-align: middle;\n",
       "    }\n",
       "\n",
       "    .dataframe tbody tr th {\n",
       "        vertical-align: top;\n",
       "    }\n",
       "\n",
       "    .dataframe thead th {\n",
       "        text-align: right;\n",
       "    }\n",
       "</style>\n",
       "<table border=\"1\" class=\"dataframe\">\n",
       "  <thead>\n",
       "    <tr style=\"text-align: right;\">\n",
       "      <th></th>\n",
       "      <th>sex_female</th>\n",
       "      <th>suicides_per_100k</th>\n",
       "      <th>age_rank</th>\n",
       "      <th>Happiness_Score</th>\n",
       "      <th>Health_Life_Expectancy</th>\n",
       "      <th>Freedom</th>\n",
       "      <th>Trust_Government_Corruption</th>\n",
       "      <th>GDP_per_capita</th>\n",
       "      <th>Unemployment_rate</th>\n",
       "      <th>Female_labor_force</th>\n",
       "      <th>Health:_Total_expenditure_%_of_GDP</th>\n",
       "      <th>Education:_Government_expenditure_%_of_GDP</th>\n",
       "      <th>Seats_held_by_women_in_national_parliaments_%</th>\n",
       "      <th>Individuals_using_the_Internet_per_100_inhabitants</th>\n",
       "      <th>urban_pop_using_drinking_water</th>\n",
       "      <th>Sex_ratio_m_per_100_f,_2017</th>\n",
       "      <th>GDP_growth_rate_annual_%,_const._2005_prices</th>\n",
       "      <th>energy_supply_per_capita</th>\n",
       "    </tr>\n",
       "    <tr>\n",
       "      <th>country</th>\n",
       "      <th></th>\n",
       "      <th></th>\n",
       "      <th></th>\n",
       "      <th></th>\n",
       "      <th></th>\n",
       "      <th></th>\n",
       "      <th></th>\n",
       "      <th></th>\n",
       "      <th></th>\n",
       "      <th></th>\n",
       "      <th></th>\n",
       "      <th></th>\n",
       "      <th></th>\n",
       "      <th></th>\n",
       "      <th></th>\n",
       "      <th></th>\n",
       "      <th></th>\n",
       "      <th></th>\n",
       "    </tr>\n",
       "  </thead>\n",
       "  <tbody>\n",
       "    <tr>\n",
       "      <th>Argentina</th>\n",
       "      <td>1</td>\n",
       "      <td>4.507688</td>\n",
       "      <td>2.0</td>\n",
       "      <td>6.650</td>\n",
       "      <td>0.69711</td>\n",
       "      <td>0.42284</td>\n",
       "      <td>0.07296</td>\n",
       "      <td>14564.5</td>\n",
       "      <td>6.5</td>\n",
       "      <td>48.6</td>\n",
       "      <td>4.8</td>\n",
       "      <td>5.3</td>\n",
       "      <td>38.9</td>\n",
       "      <td>256.0</td>\n",
       "      <td>96.2</td>\n",
       "      <td>95.9</td>\n",
       "      <td>2.4</td>\n",
       "      <td>99.0</td>\n",
       "    </tr>\n",
       "    <tr>\n",
       "      <th>Argentina</th>\n",
       "      <td>1</td>\n",
       "      <td>3.523323</td>\n",
       "      <td>3.0</td>\n",
       "      <td>6.650</td>\n",
       "      <td>0.69711</td>\n",
       "      <td>0.42284</td>\n",
       "      <td>0.07296</td>\n",
       "      <td>14564.5</td>\n",
       "      <td>6.5</td>\n",
       "      <td>48.6</td>\n",
       "      <td>4.8</td>\n",
       "      <td>5.3</td>\n",
       "      <td>38.9</td>\n",
       "      <td>256.0</td>\n",
       "      <td>96.2</td>\n",
       "      <td>95.9</td>\n",
       "      <td>2.4</td>\n",
       "      <td>99.0</td>\n",
       "    </tr>\n",
       "    <tr>\n",
       "      <th>Argentina</th>\n",
       "      <td>1</td>\n",
       "      <td>3.131267</td>\n",
       "      <td>4.0</td>\n",
       "      <td>6.650</td>\n",
       "      <td>0.69711</td>\n",
       "      <td>0.42284</td>\n",
       "      <td>0.07296</td>\n",
       "      <td>14564.5</td>\n",
       "      <td>6.5</td>\n",
       "      <td>48.6</td>\n",
       "      <td>4.8</td>\n",
       "      <td>5.3</td>\n",
       "      <td>38.9</td>\n",
       "      <td>256.0</td>\n",
       "      <td>96.2</td>\n",
       "      <td>95.9</td>\n",
       "      <td>2.4</td>\n",
       "      <td>99.0</td>\n",
       "    </tr>\n",
       "    <tr>\n",
       "      <th>Argentina</th>\n",
       "      <td>1</td>\n",
       "      <td>0.535329</td>\n",
       "      <td>1.0</td>\n",
       "      <td>6.650</td>\n",
       "      <td>0.69711</td>\n",
       "      <td>0.42284</td>\n",
       "      <td>0.07296</td>\n",
       "      <td>14564.5</td>\n",
       "      <td>6.5</td>\n",
       "      <td>48.6</td>\n",
       "      <td>4.8</td>\n",
       "      <td>5.3</td>\n",
       "      <td>38.9</td>\n",
       "      <td>256.0</td>\n",
       "      <td>96.2</td>\n",
       "      <td>95.9</td>\n",
       "      <td>2.4</td>\n",
       "      <td>99.0</td>\n",
       "    </tr>\n",
       "    <tr>\n",
       "      <th>Argentina</th>\n",
       "      <td>1</td>\n",
       "      <td>3.550351</td>\n",
       "      <td>5.0</td>\n",
       "      <td>6.650</td>\n",
       "      <td>0.69711</td>\n",
       "      <td>0.42284</td>\n",
       "      <td>0.07296</td>\n",
       "      <td>14564.5</td>\n",
       "      <td>6.5</td>\n",
       "      <td>48.6</td>\n",
       "      <td>4.8</td>\n",
       "      <td>5.3</td>\n",
       "      <td>38.9</td>\n",
       "      <td>256.0</td>\n",
       "      <td>96.2</td>\n",
       "      <td>95.9</td>\n",
       "      <td>2.4</td>\n",
       "      <td>99.0</td>\n",
       "    </tr>\n",
       "    <tr>\n",
       "      <th>...</th>\n",
       "      <td>...</td>\n",
       "      <td>...</td>\n",
       "      <td>...</td>\n",
       "      <td>...</td>\n",
       "      <td>...</td>\n",
       "      <td>...</td>\n",
       "      <td>...</td>\n",
       "      <td>...</td>\n",
       "      <td>...</td>\n",
       "      <td>...</td>\n",
       "      <td>...</td>\n",
       "      <td>...</td>\n",
       "      <td>...</td>\n",
       "      <td>...</td>\n",
       "      <td>...</td>\n",
       "      <td>...</td>\n",
       "      <td>...</td>\n",
       "      <td>...</td>\n",
       "    </tr>\n",
       "    <tr>\n",
       "      <th>Uruguay</th>\n",
       "      <td>0</td>\n",
       "      <td>40.747548</td>\n",
       "      <td>3.0</td>\n",
       "      <td>6.545</td>\n",
       "      <td>0.72183</td>\n",
       "      <td>0.54388</td>\n",
       "      <td>0.21394</td>\n",
       "      <td>15573.8</td>\n",
       "      <td>8.8</td>\n",
       "      <td>55.6</td>\n",
       "      <td>8.6</td>\n",
       "      <td>4.4</td>\n",
       "      <td>20.2</td>\n",
       "      <td>106.0</td>\n",
       "      <td>96.6</td>\n",
       "      <td>93.5</td>\n",
       "      <td>1.0</td>\n",
       "      <td>100.</td>\n",
       "    </tr>\n",
       "    <tr>\n",
       "      <th>Uruguay</th>\n",
       "      <td>0</td>\n",
       "      <td>31.842401</td>\n",
       "      <td>4.0</td>\n",
       "      <td>6.545</td>\n",
       "      <td>0.72183</td>\n",
       "      <td>0.54388</td>\n",
       "      <td>0.21394</td>\n",
       "      <td>15573.8</td>\n",
       "      <td>8.8</td>\n",
       "      <td>55.6</td>\n",
       "      <td>8.6</td>\n",
       "      <td>4.4</td>\n",
       "      <td>20.2</td>\n",
       "      <td>106.0</td>\n",
       "      <td>96.6</td>\n",
       "      <td>93.5</td>\n",
       "      <td>1.0</td>\n",
       "      <td>100.</td>\n",
       "    </tr>\n",
       "    <tr>\n",
       "      <th>Uruguay</th>\n",
       "      <td>0</td>\n",
       "      <td>1.188076</td>\n",
       "      <td>1.0</td>\n",
       "      <td>6.545</td>\n",
       "      <td>0.72183</td>\n",
       "      <td>0.54388</td>\n",
       "      <td>0.21394</td>\n",
       "      <td>15573.8</td>\n",
       "      <td>8.8</td>\n",
       "      <td>55.6</td>\n",
       "      <td>8.6</td>\n",
       "      <td>4.4</td>\n",
       "      <td>20.2</td>\n",
       "      <td>106.0</td>\n",
       "      <td>96.6</td>\n",
       "      <td>93.5</td>\n",
       "      <td>1.0</td>\n",
       "      <td>100.</td>\n",
       "    </tr>\n",
       "    <tr>\n",
       "      <th>Uruguay</th>\n",
       "      <td>0</td>\n",
       "      <td>47.864109</td>\n",
       "      <td>5.0</td>\n",
       "      <td>6.545</td>\n",
       "      <td>0.72183</td>\n",
       "      <td>0.54388</td>\n",
       "      <td>0.21394</td>\n",
       "      <td>15573.8</td>\n",
       "      <td>8.8</td>\n",
       "      <td>55.6</td>\n",
       "      <td>8.6</td>\n",
       "      <td>4.4</td>\n",
       "      <td>20.2</td>\n",
       "      <td>106.0</td>\n",
       "      <td>96.6</td>\n",
       "      <td>93.5</td>\n",
       "      <td>1.0</td>\n",
       "      <td>100.</td>\n",
       "    </tr>\n",
       "    <tr>\n",
       "      <th>Uruguay</th>\n",
       "      <td>0</td>\n",
       "      <td>73.421439</td>\n",
       "      <td>6.0</td>\n",
       "      <td>6.545</td>\n",
       "      <td>0.72183</td>\n",
       "      <td>0.54388</td>\n",
       "      <td>0.21394</td>\n",
       "      <td>15573.8</td>\n",
       "      <td>8.8</td>\n",
       "      <td>55.6</td>\n",
       "      <td>8.6</td>\n",
       "      <td>4.4</td>\n",
       "      <td>20.2</td>\n",
       "      <td>106.0</td>\n",
       "      <td>96.6</td>\n",
       "      <td>93.5</td>\n",
       "      <td>1.0</td>\n",
       "      <td>100.</td>\n",
       "    </tr>\n",
       "  </tbody>\n",
       "</table>\n",
       "<p>554 rows × 18 columns</p>\n",
       "</div>"
      ],
      "text/plain": [
       "           sex_female  suicides_per_100k  age_rank  Happiness_Score  \\\n",
       "country                                                               \n",
       "Argentina           1           4.507688       2.0            6.650   \n",
       "Argentina           1           3.523323       3.0            6.650   \n",
       "Argentina           1           3.131267       4.0            6.650   \n",
       "Argentina           1           0.535329       1.0            6.650   \n",
       "Argentina           1           3.550351       5.0            6.650   \n",
       "...               ...                ...       ...              ...   \n",
       "Uruguay             0          40.747548       3.0            6.545   \n",
       "Uruguay             0          31.842401       4.0            6.545   \n",
       "Uruguay             0           1.188076       1.0            6.545   \n",
       "Uruguay             0          47.864109       5.0            6.545   \n",
       "Uruguay             0          73.421439       6.0            6.545   \n",
       "\n",
       "           Health_Life_Expectancy  Freedom  Trust_Government_Corruption  \\\n",
       "country                                                                   \n",
       "Argentina                 0.69711  0.42284                      0.07296   \n",
       "Argentina                 0.69711  0.42284                      0.07296   \n",
       "Argentina                 0.69711  0.42284                      0.07296   \n",
       "Argentina                 0.69711  0.42284                      0.07296   \n",
       "Argentina                 0.69711  0.42284                      0.07296   \n",
       "...                           ...      ...                          ...   \n",
       "Uruguay                   0.72183  0.54388                      0.21394   \n",
       "Uruguay                   0.72183  0.54388                      0.21394   \n",
       "Uruguay                   0.72183  0.54388                      0.21394   \n",
       "Uruguay                   0.72183  0.54388                      0.21394   \n",
       "Uruguay                   0.72183  0.54388                      0.21394   \n",
       "\n",
       "           GDP_per_capita  Unemployment_rate  Female_labor_force  \\\n",
       "country                                                            \n",
       "Argentina         14564.5                6.5                48.6   \n",
       "Argentina         14564.5                6.5                48.6   \n",
       "Argentina         14564.5                6.5                48.6   \n",
       "Argentina         14564.5                6.5                48.6   \n",
       "Argentina         14564.5                6.5                48.6   \n",
       "...                   ...                ...                 ...   \n",
       "Uruguay           15573.8                8.8                55.6   \n",
       "Uruguay           15573.8                8.8                55.6   \n",
       "Uruguay           15573.8                8.8                55.6   \n",
       "Uruguay           15573.8                8.8                55.6   \n",
       "Uruguay           15573.8                8.8                55.6   \n",
       "\n",
       "           Health:_Total_expenditure_%_of_GDP  \\\n",
       "country                                         \n",
       "Argentina                                 4.8   \n",
       "Argentina                                 4.8   \n",
       "Argentina                                 4.8   \n",
       "Argentina                                 4.8   \n",
       "Argentina                                 4.8   \n",
       "...                                       ...   \n",
       "Uruguay                                   8.6   \n",
       "Uruguay                                   8.6   \n",
       "Uruguay                                   8.6   \n",
       "Uruguay                                   8.6   \n",
       "Uruguay                                   8.6   \n",
       "\n",
       "           Education:_Government_expenditure_%_of_GDP  \\\n",
       "country                                                 \n",
       "Argentina                                         5.3   \n",
       "Argentina                                         5.3   \n",
       "Argentina                                         5.3   \n",
       "Argentina                                         5.3   \n",
       "Argentina                                         5.3   \n",
       "...                                               ...   \n",
       "Uruguay                                           4.4   \n",
       "Uruguay                                           4.4   \n",
       "Uruguay                                           4.4   \n",
       "Uruguay                                           4.4   \n",
       "Uruguay                                           4.4   \n",
       "\n",
       "           Seats_held_by_women_in_national_parliaments_%  \\\n",
       "country                                                    \n",
       "Argentina                                           38.9   \n",
       "Argentina                                           38.9   \n",
       "Argentina                                           38.9   \n",
       "Argentina                                           38.9   \n",
       "Argentina                                           38.9   \n",
       "...                                                  ...   \n",
       "Uruguay                                             20.2   \n",
       "Uruguay                                             20.2   \n",
       "Uruguay                                             20.2   \n",
       "Uruguay                                             20.2   \n",
       "Uruguay                                             20.2   \n",
       "\n",
       "           Individuals_using_the_Internet_per_100_inhabitants  \\\n",
       "country                                                         \n",
       "Argentina                                              256.0    \n",
       "Argentina                                              256.0    \n",
       "Argentina                                              256.0    \n",
       "Argentina                                              256.0    \n",
       "Argentina                                              256.0    \n",
       "...                                                      ...    \n",
       "Uruguay                                                106.0    \n",
       "Uruguay                                                106.0    \n",
       "Uruguay                                                106.0    \n",
       "Uruguay                                                106.0    \n",
       "Uruguay                                                106.0    \n",
       "\n",
       "           urban_pop_using_drinking_water  Sex_ratio_m_per_100_f,_2017  \\\n",
       "country                                                                  \n",
       "Argentina                            96.2                         95.9   \n",
       "Argentina                            96.2                         95.9   \n",
       "Argentina                            96.2                         95.9   \n",
       "Argentina                            96.2                         95.9   \n",
       "Argentina                            96.2                         95.9   \n",
       "...                                   ...                          ...   \n",
       "Uruguay                              96.6                         93.5   \n",
       "Uruguay                              96.6                         93.5   \n",
       "Uruguay                              96.6                         93.5   \n",
       "Uruguay                              96.6                         93.5   \n",
       "Uruguay                              96.6                         93.5   \n",
       "\n",
       "          GDP_growth_rate_annual_%,_const._2005_prices  \\\n",
       "country                                                  \n",
       "Argentina                                          2.4   \n",
       "Argentina                                          2.4   \n",
       "Argentina                                          2.4   \n",
       "Argentina                                          2.4   \n",
       "Argentina                                          2.4   \n",
       "...                                                ...   \n",
       "Uruguay                                            1.0   \n",
       "Uruguay                                            1.0   \n",
       "Uruguay                                            1.0   \n",
       "Uruguay                                            1.0   \n",
       "Uruguay                                            1.0   \n",
       "\n",
       "          energy_supply_per_capita  \n",
       "country                             \n",
       "Argentina                     99.0  \n",
       "Argentina                     99.0  \n",
       "Argentina                     99.0  \n",
       "Argentina                     99.0  \n",
       "Argentina                     99.0  \n",
       "...                            ...  \n",
       "Uruguay                       100.  \n",
       "Uruguay                       100.  \n",
       "Uruguay                       100.  \n",
       "Uruguay                       100.  \n",
       "Uruguay                       100.  \n",
       "\n",
       "[554 rows x 18 columns]"
      ]
     },
     "execution_count": 50,
     "metadata": {},
     "output_type": "execute_result"
    }
   ],
   "source": [
    "df2"
   ]
  },
  {
   "cell_type": "markdown",
   "metadata": {},
   "source": [
    "Import necessary libraries"
   ]
  },
  {
   "cell_type": "code",
   "execution_count": 51,
   "metadata": {},
   "outputs": [
    {
     "name": "stdout",
     "output_type": "stream",
     "text": [
      "Populating the interactive namespace from numpy and matplotlib\n"
     ]
    }
   ],
   "source": [
    "%pylab inline\n",
    "import sklearn as sk"
   ]
  },
  {
   "cell_type": "markdown",
   "metadata": {},
   "source": [
    "Create the X dataframe, which contains all but the suicide per 100k column."
   ]
  },
  {
   "cell_type": "code",
   "execution_count": 52,
   "metadata": {},
   "outputs": [],
   "source": [
    "X = df2.drop('suicides_per_100k',axis=1)"
   ]
  },
  {
   "cell_type": "markdown",
   "metadata": {},
   "source": [
    " Create the Y series, which only contains the suicide number column. Also, create the X2 dataframe, which is a replica of X, that will be used later"
   ]
  },
  {
   "cell_type": "code",
   "execution_count": 53,
   "metadata": {},
   "outputs": [],
   "source": [
    "X2 = X"
   ]
  },
  {
   "cell_type": "code",
   "execution_count": 54,
   "metadata": {},
   "outputs": [],
   "source": [
    "Y = df2.suicides_per_100k"
   ]
  },
  {
   "cell_type": "markdown",
   "metadata": {},
   "source": [
    "Import necesarry libraries"
   ]
  },
  {
   "cell_type": "code",
   "execution_count": 55,
   "metadata": {},
   "outputs": [],
   "source": [
    "from sklearn import linear_model"
   ]
  },
  {
   "cell_type": "markdown",
   "metadata": {},
   "source": [
    "Create the Lasso and fit it, which can be used for the regression analysis"
   ]
  },
  {
   "cell_type": "code",
   "execution_count": 56,
   "metadata": {},
   "outputs": [],
   "source": [
    "regLasso = linear_model.Lasso()"
   ]
  },
  {
   "cell_type": "code",
   "execution_count": 57,
   "metadata": {},
   "outputs": [],
   "source": [
    "from sklearn.model_selection import train_test_split"
   ]
  },
  {
   "cell_type": "code",
   "execution_count": 58,
   "metadata": {},
   "outputs": [],
   "source": [
    "X_train, X_test, Y_train, Y_test = train_test_split(X,Y,test_size=0.3,random_state=0)"
   ]
  },
  {
   "cell_type": "code",
   "execution_count": 59,
   "metadata": {
    "scrolled": true
   },
   "outputs": [
    {
     "data": {
      "text/plain": [
       "Lasso()"
      ]
     },
     "execution_count": 59,
     "metadata": {},
     "output_type": "execute_result"
    }
   ],
   "source": [
    "regLasso.fit(X_train,Y_train)"
   ]
  },
  {
   "cell_type": "markdown",
   "metadata": {},
   "source": [
    "Predict the value of Y based on our regressor model"
   ]
  },
  {
   "cell_type": "code",
   "execution_count": 60,
   "metadata": {},
   "outputs": [],
   "source": [
    "y_pred = regLasso.predict(X_test)"
   ]
  },
  {
   "cell_type": "markdown",
   "metadata": {},
   "source": [
    "Mean absolute error: Find the average of the difference between the prediction and real values"
   ]
  },
  {
   "cell_type": "code",
   "execution_count": 61,
   "metadata": {},
   "outputs": [
    {
     "data": {
      "text/plain": [
       "7.656681865107951"
      ]
     },
     "execution_count": 61,
     "metadata": {},
     "output_type": "execute_result"
    }
   ],
   "source": [
    "(y_pred - Y_test).abs().mean()"
   ]
  },
  {
   "cell_type": "markdown",
   "metadata": {},
   "source": [
    "Mean Absolute Deviation: find the average of the square root of the difference between prediction and real values"
   ]
  },
  {
   "cell_type": "code",
   "execution_count": 62,
   "metadata": {
    "scrolled": true
   },
   "outputs": [
    {
     "data": {
      "text/plain": [
       "145.2679656493442"
      ]
     },
     "execution_count": 62,
     "metadata": {},
     "output_type": "execute_result"
    }
   ],
   "source": [
    "((y_pred - Y_test)**2).mean()"
   ]
  },
  {
   "cell_type": "markdown",
   "metadata": {},
   "source": [
    "import needed regression libraries"
   ]
  },
  {
   "cell_type": "code",
   "execution_count": 63,
   "metadata": {},
   "outputs": [],
   "source": [
    "from sklearn.linear_model import LinearRegression\n",
    "from sklearn.linear_model import ElasticNet\n",
    "from sklearn.tree import DecisionTreeRegressor\n",
    "from sklearn.ensemble import GradientBoostingRegressor\n",
    "from sklearn.neural_network import MLPRegressor\n",
    "from sklearn.svm import SVR\n",
    "\n",
    "regs = [LinearRegression(), ElasticNet(), DecisionTreeRegressor(), GradientBoostingRegressor(), MLPRegressor()]#, SVR()]"
   ]
  },
  {
   "cell_type": "code",
   "execution_count": 64,
   "metadata": {},
   "outputs": [],
   "source": [
    "from sklearn.model_selection import KFold"
   ]
  },
  {
   "cell_type": "markdown",
   "metadata": {},
   "source": [
    "Go through the necessary steps to find the minMad"
   ]
  },
  {
   "cell_type": "code",
   "execution_count": 65,
   "metadata": {},
   "outputs": [
    {
     "name": "stdout",
     "output_type": "stream",
     "text": [
      "LinearRegression() with mad= -7.325262959190139\n",
      "ElasticNet() with mad= -7.831543263735343\n",
      "DecisionTreeRegressor() with mad= -5.178660444988266\n",
      "GradientBoostingRegressor with mad= -4.209675641776676\n"
     ]
    },
    {
     "name": "stderr",
     "output_type": "stream",
     "text": [
      "/Users/rossurbina/.conda/envs/ENVIRONMENT/lib/python3.7/site-packages/sklearn/neural_network/_multilayer_perceptron.py:585: ConvergenceWarning: Stochastic Optimizer: Maximum iterations (200) reached and the optimization hasn't converged yet.\n",
      "  % self.max_iter, ConvergenceWarning)\n",
      "/Users/rossurbina/.conda/envs/ENVIRONMENT/lib/python3.7/site-packages/sklearn/neural_network/_multilayer_perceptron.py:585: ConvergenceWarning: Stochastic Optimizer: Maximum iterations (200) reached and the optimization hasn't converged yet.\n",
      "  % self.max_iter, ConvergenceWarning)\n"
     ]
    },
    {
     "name": "stdout",
     "output_type": "stream",
     "text": [
      "MLPRegressor() with mad= -10.482329598906308\n",
      "***********************************************\n",
      "Best Regressor is... MLPRegressor()\n",
      "**********************\n",
      "With MAD Score -10.482329598906308\n"
     ]
    },
    {
     "name": "stderr",
     "output_type": "stream",
     "text": [
      "/Users/rossurbina/.conda/envs/ENVIRONMENT/lib/python3.7/site-packages/sklearn/neural_network/_multilayer_perceptron.py:585: ConvergenceWarning: Stochastic Optimizer: Maximum iterations (200) reached and the optimization hasn't converged yet.\n",
      "  % self.max_iter, ConvergenceWarning)\n"
     ]
    }
   ],
   "source": [
    "minMAD = 10000000\n",
    "for reg in regs:\n",
    "    kf = KFold(random_state=0,shuffle=True)\n",
    "    mad = sk.model_selection.cross_val_score(reg,X,Y,\\\n",
    "             cv=kf,scoring='neg_mean_absolute_error').mean()\n",
    "    # need the lowest scoring for mad\n",
    "    print (str(reg)[:25] + ' with mad= ' + str(mad) )\n",
    "    if mad < minMAD:\n",
    "        minMAD = mad\n",
    "        bestREG = reg\n",
    "        \n",
    "print('***********************************************')\n",
    "print ('Best Regressor is... ' + str(bestREG)[:25] )\n",
    "print('**********************')\n",
    "print ('With MAD Score ' + str(minMAD))"
   ]
  },
  {
   "cell_type": "markdown",
   "metadata": {},
   "source": [
    "Create a new variable for minMAD for clearer wording"
   ]
  },
  {
   "cell_type": "code",
   "execution_count": 66,
   "metadata": {},
   "outputs": [],
   "source": [
    "lowest_min_MAD = minMAD"
   ]
  },
  {
   "cell_type": "code",
   "execution_count": 67,
   "metadata": {},
   "outputs": [
    {
     "data": {
      "text/plain": [
       "-10.482329598906308"
      ]
     },
     "execution_count": 67,
     "metadata": {},
     "output_type": "execute_result"
    }
   ],
   "source": [
    "lowest_min_MAD"
   ]
  },
  {
   "cell_type": "markdown",
   "metadata": {},
   "source": [
    "OVERALL LOGIC: Some columns may harm our overall min MAD, so we would get lower values without them. Find which columns harm the minMAD value, then create a new dataframe without them. Then, find the new minMAD with that"
   ]
  },
  {
   "cell_type": "markdown",
   "metadata": {},
   "source": [
    "Create a new list for helpful columns, which we will input the helpful columns into"
   ]
  },
  {
   "cell_type": "code",
   "execution_count": 68,
   "metadata": {},
   "outputs": [],
   "source": [
    "helpful_cols_max = []"
   ]
  },
  {
   "cell_type": "markdown",
   "metadata": {},
   "source": [
    "Create a function that finds the minMAD value. Since we will be running this multiple times, it will be easier to read with just the function\n",
    "\n",
    "The one difference from the above code (line 43) is that it has regr_fcn.minMAD. This is to extract each minMAD value to compare it to the lowest_min_MAD. "
   ]
  },
  {
   "cell_type": "code",
   "execution_count": 69,
   "metadata": {},
   "outputs": [],
   "source": [
    "def regr_fcn(X):\n",
    "    minMAD = 10000000\n",
    "    for reg in regs:\n",
    "        kf = KFold(random_state=0,shuffle=True)\n",
    "        mad = sk.model_selection.cross_val_score(reg,X,Y,\\\n",
    "                 cv=kf,scoring='neg_mean_absolute_error').mean()\n",
    "        # need the lowest scoring for mad\n",
    "        if mad < minMAD:\n",
    "            minMAD = mad\n",
    "            bestREG = reg\n",
    "    regr_fcn.minMAD = minMAD\n",
    "    print ('Best Regressor is' + str(bestREG)[:25] + 'With MAD Score ' + str(minMAD))"
   ]
  },
  {
   "cell_type": "markdown",
   "metadata": {},
   "source": [
    "Create a list of the columns in X, allowing us to iterate through them"
   ]
  },
  {
   "cell_type": "code",
   "execution_count": 70,
   "metadata": {},
   "outputs": [],
   "source": [
    "col = X.columns"
   ]
  },
  {
   "cell_type": "markdown",
   "metadata": {},
   "source": [
    "Create a for loop that runs through all the columns in X. If the regression performs worse without that column than it did with all of the columns, then add it to the helpful columns list. This indicates that those columns are helpful attributes that make our prediction better.\n",
    "\n",
    "Also, find the lowest_minMAD value, which indicates where the function performed the worse without that column (indicating it's the most helpful column). Save it as the lowest_MaxAUC variable. Start out with placeholder_minMAD being a value of -1000, and it will drop to the new value if regr_fcn.minMAD > placeholder_minMAD"
   ]
  },
  {
   "cell_type": "code",
   "execution_count": 71,
   "metadata": {},
   "outputs": [],
   "source": [
    "placeholder_minMAD = -1000"
   ]
  },
  {
   "cell_type": "code",
   "execution_count": 72,
   "metadata": {},
   "outputs": [
    {
     "name": "stderr",
     "output_type": "stream",
     "text": [
      "/Users/rossurbina/.conda/envs/ENVIRONMENT/lib/python3.7/site-packages/sklearn/neural_network/_multilayer_perceptron.py:585: ConvergenceWarning: Stochastic Optimizer: Maximum iterations (200) reached and the optimization hasn't converged yet.\n",
      "  % self.max_iter, ConvergenceWarning)\n"
     ]
    },
    {
     "name": "stdout",
     "output_type": "stream",
     "text": [
      "Best Regressor isDecisionTreeRegressor()With MAD Score -13.176153225763013\n"
     ]
    },
    {
     "name": "stderr",
     "output_type": "stream",
     "text": [
      "/Users/rossurbina/.conda/envs/ENVIRONMENT/lib/python3.7/site-packages/sklearn/neural_network/_multilayer_perceptron.py:585: ConvergenceWarning: Stochastic Optimizer: Maximum iterations (200) reached and the optimization hasn't converged yet.\n",
      "  % self.max_iter, ConvergenceWarning)\n"
     ]
    },
    {
     "name": "stdout",
     "output_type": "stream",
     "text": [
      "Best Regressor isMLPRegressor()With MAD Score -10.532449012662688\n"
     ]
    },
    {
     "name": "stderr",
     "output_type": "stream",
     "text": [
      "/Users/rossurbina/.conda/envs/ENVIRONMENT/lib/python3.7/site-packages/sklearn/neural_network/_multilayer_perceptron.py:585: ConvergenceWarning: Stochastic Optimizer: Maximum iterations (200) reached and the optimization hasn't converged yet.\n",
      "  % self.max_iter, ConvergenceWarning)\n"
     ]
    },
    {
     "name": "stdout",
     "output_type": "stream",
     "text": [
      "Best Regressor isMLPRegressor()With MAD Score -10.656607677593428\n",
      "Best Regressor isMLPRegressor()With MAD Score -10.715604939361047\n"
     ]
    },
    {
     "name": "stderr",
     "output_type": "stream",
     "text": [
      "/Users/rossurbina/.conda/envs/ENVIRONMENT/lib/python3.7/site-packages/sklearn/neural_network/_multilayer_perceptron.py:585: ConvergenceWarning: Stochastic Optimizer: Maximum iterations (200) reached and the optimization hasn't converged yet.\n",
      "  % self.max_iter, ConvergenceWarning)\n",
      "/Users/rossurbina/.conda/envs/ENVIRONMENT/lib/python3.7/site-packages/sklearn/neural_network/_multilayer_perceptron.py:585: ConvergenceWarning: Stochastic Optimizer: Maximum iterations (200) reached and the optimization hasn't converged yet.\n",
      "  % self.max_iter, ConvergenceWarning)\n"
     ]
    },
    {
     "name": "stdout",
     "output_type": "stream",
     "text": [
      "Best Regressor isMLPRegressor()With MAD Score -10.12976815465628\n"
     ]
    },
    {
     "name": "stderr",
     "output_type": "stream",
     "text": [
      "/Users/rossurbina/.conda/envs/ENVIRONMENT/lib/python3.7/site-packages/sklearn/neural_network/_multilayer_perceptron.py:585: ConvergenceWarning: Stochastic Optimizer: Maximum iterations (200) reached and the optimization hasn't converged yet.\n",
      "  % self.max_iter, ConvergenceWarning)\n"
     ]
    },
    {
     "name": "stdout",
     "output_type": "stream",
     "text": [
      "Best Regressor isMLPRegressor()With MAD Score -10.339557668843653\n"
     ]
    },
    {
     "name": "stderr",
     "output_type": "stream",
     "text": [
      "/Users/rossurbina/.conda/envs/ENVIRONMENT/lib/python3.7/site-packages/sklearn/neural_network/_multilayer_perceptron.py:585: ConvergenceWarning: Stochastic Optimizer: Maximum iterations (200) reached and the optimization hasn't converged yet.\n",
      "  % self.max_iter, ConvergenceWarning)\n",
      "/Users/rossurbina/.conda/envs/ENVIRONMENT/lib/python3.7/site-packages/sklearn/neural_network/_multilayer_perceptron.py:585: ConvergenceWarning: Stochastic Optimizer: Maximum iterations (200) reached and the optimization hasn't converged yet.\n",
      "  % self.max_iter, ConvergenceWarning)\n",
      "/Users/rossurbina/.conda/envs/ENVIRONMENT/lib/python3.7/site-packages/sklearn/neural_network/_multilayer_perceptron.py:585: ConvergenceWarning: Stochastic Optimizer: Maximum iterations (200) reached and the optimization hasn't converged yet.\n",
      "  % self.max_iter, ConvergenceWarning)\n",
      "/Users/rossurbina/.conda/envs/ENVIRONMENT/lib/python3.7/site-packages/sklearn/neural_network/_multilayer_perceptron.py:585: ConvergenceWarning: Stochastic Optimizer: Maximum iterations (200) reached and the optimization hasn't converged yet.\n",
      "  % self.max_iter, ConvergenceWarning)\n",
      "/Users/rossurbina/.conda/envs/ENVIRONMENT/lib/python3.7/site-packages/sklearn/neural_network/_multilayer_perceptron.py:585: ConvergenceWarning: Stochastic Optimizer: Maximum iterations (200) reached and the optimization hasn't converged yet.\n",
      "  % self.max_iter, ConvergenceWarning)\n"
     ]
    },
    {
     "name": "stdout",
     "output_type": "stream",
     "text": [
      "Best Regressor isElasticNet()With MAD Score -7.823086068548212\n",
      "Best Regressor isMLPRegressor()With MAD Score -10.523245447652078\n",
      "Best Regressor isMLPRegressor()With MAD Score -10.90963618405149\n"
     ]
    },
    {
     "name": "stderr",
     "output_type": "stream",
     "text": [
      "/Users/rossurbina/.conda/envs/ENVIRONMENT/lib/python3.7/site-packages/sklearn/neural_network/_multilayer_perceptron.py:585: ConvergenceWarning: Stochastic Optimizer: Maximum iterations (200) reached and the optimization hasn't converged yet.\n",
      "  % self.max_iter, ConvergenceWarning)\n"
     ]
    },
    {
     "name": "stdout",
     "output_type": "stream",
     "text": [
      "Best Regressor isMLPRegressor()With MAD Score -10.929205003320536\n"
     ]
    },
    {
     "name": "stderr",
     "output_type": "stream",
     "text": [
      "/Users/rossurbina/.conda/envs/ENVIRONMENT/lib/python3.7/site-packages/sklearn/neural_network/_multilayer_perceptron.py:585: ConvergenceWarning: Stochastic Optimizer: Maximum iterations (200) reached and the optimization hasn't converged yet.\n",
      "  % self.max_iter, ConvergenceWarning)\n",
      "/Users/rossurbina/.conda/envs/ENVIRONMENT/lib/python3.7/site-packages/sklearn/neural_network/_multilayer_perceptron.py:585: ConvergenceWarning: Stochastic Optimizer: Maximum iterations (200) reached and the optimization hasn't converged yet.\n",
      "  % self.max_iter, ConvergenceWarning)\n"
     ]
    },
    {
     "name": "stdout",
     "output_type": "stream",
     "text": [
      "Best Regressor isMLPRegressor()With MAD Score -10.335625354158656\n"
     ]
    },
    {
     "name": "stderr",
     "output_type": "stream",
     "text": [
      "/Users/rossurbina/.conda/envs/ENVIRONMENT/lib/python3.7/site-packages/sklearn/neural_network/_multilayer_perceptron.py:585: ConvergenceWarning: Stochastic Optimizer: Maximum iterations (200) reached and the optimization hasn't converged yet.\n",
      "  % self.max_iter, ConvergenceWarning)\n"
     ]
    },
    {
     "name": "stdout",
     "output_type": "stream",
     "text": [
      "Best Regressor isMLPRegressor()With MAD Score -9.919604248214132\n"
     ]
    },
    {
     "name": "stderr",
     "output_type": "stream",
     "text": [
      "/Users/rossurbina/.conda/envs/ENVIRONMENT/lib/python3.7/site-packages/sklearn/neural_network/_multilayer_perceptron.py:585: ConvergenceWarning: Stochastic Optimizer: Maximum iterations (200) reached and the optimization hasn't converged yet.\n",
      "  % self.max_iter, ConvergenceWarning)\n"
     ]
    },
    {
     "name": "stdout",
     "output_type": "stream",
     "text": [
      "Best Regressor isMLPRegressor()With MAD Score -10.178008754617066\n"
     ]
    },
    {
     "name": "stderr",
     "output_type": "stream",
     "text": [
      "/Users/rossurbina/.conda/envs/ENVIRONMENT/lib/python3.7/site-packages/sklearn/neural_network/_multilayer_perceptron.py:585: ConvergenceWarning: Stochastic Optimizer: Maximum iterations (200) reached and the optimization hasn't converged yet.\n",
      "  % self.max_iter, ConvergenceWarning)\n"
     ]
    },
    {
     "name": "stdout",
     "output_type": "stream",
     "text": [
      "Best Regressor isMLPRegressor()With MAD Score -10.2815033505867\n"
     ]
    },
    {
     "name": "stderr",
     "output_type": "stream",
     "text": [
      "/Users/rossurbina/.conda/envs/ENVIRONMENT/lib/python3.7/site-packages/sklearn/neural_network/_multilayer_perceptron.py:585: ConvergenceWarning: Stochastic Optimizer: Maximum iterations (200) reached and the optimization hasn't converged yet.\n",
      "  % self.max_iter, ConvergenceWarning)\n"
     ]
    },
    {
     "name": "stdout",
     "output_type": "stream",
     "text": [
      "Best Regressor isMLPRegressor()With MAD Score -10.415913637028579\n",
      "Best Regressor isMLPRegressor()With MAD Score -10.195953311919913\n"
     ]
    },
    {
     "name": "stderr",
     "output_type": "stream",
     "text": [
      "/Users/rossurbina/.conda/envs/ENVIRONMENT/lib/python3.7/site-packages/sklearn/neural_network/_multilayer_perceptron.py:585: ConvergenceWarning: Stochastic Optimizer: Maximum iterations (200) reached and the optimization hasn't converged yet.\n",
      "  % self.max_iter, ConvergenceWarning)\n"
     ]
    },
    {
     "name": "stdout",
     "output_type": "stream",
     "text": [
      "Best Regressor isMLPRegressor()With MAD Score -10.926016366166277\n"
     ]
    }
   ],
   "source": [
    "for x in col:\n",
    "    X = X.drop(x,axis=1)\n",
    "    regr_fcn(X)\n",
    "    if regr_fcn.minMAD > lowest_min_MAD:\n",
    "        helpful_cols_max.append(x)\n",
    "    if regr_fcn.minMAD > placeholder_minMAD:\n",
    "        placeholder_minMAD = regr_fcn.minMAD\n",
    "        lowest_minMAD = x\n",
    "    X = X2"
   ]
  },
  {
   "cell_type": "code",
   "execution_count": 73,
   "metadata": {},
   "outputs": [
    {
     "data": {
      "text/plain": [
       "-10.482329598906308"
      ]
     },
     "execution_count": 73,
     "metadata": {},
     "output_type": "execute_result"
    }
   ],
   "source": [
    "lowest_min_MAD"
   ]
  },
  {
   "cell_type": "code",
   "execution_count": 74,
   "metadata": {},
   "outputs": [
    {
     "data": {
      "text/plain": [
       "'GDP_per_capita'"
      ]
     },
     "execution_count": 74,
     "metadata": {},
     "output_type": "execute_result"
    }
   ],
   "source": [
    "lowest_minMAD"
   ]
  },
  {
   "cell_type": "markdown",
   "metadata": {},
   "source": [
    "Append the most helpful attribute (lowest_AUC) to the helpful columns list. This is to give it more weight with the classifier"
   ]
  },
  {
   "cell_type": "code",
   "execution_count": 75,
   "metadata": {},
   "outputs": [],
   "source": [
    "helpful_cols_max.append(lowest_minMAD)"
   ]
  },
  {
   "cell_type": "code",
   "execution_count": 76,
   "metadata": {},
   "outputs": [],
   "source": [
    "helpful_cols_max.append(lowest_minMAD)"
   ]
  },
  {
   "cell_type": "code",
   "execution_count": 77,
   "metadata": {},
   "outputs": [
    {
     "data": {
      "text/plain": [
       "['Freedom',\n",
       " 'Trust_Government_Corruption',\n",
       " 'GDP_per_capita',\n",
       " 'Education:_Government_expenditure_%_of_GDP',\n",
       " 'Seats_held_by_women_in_national_parliaments_%',\n",
       " 'Individuals_using_the_Internet_per_100_inhabitants',\n",
       " 'urban_pop_using_drinking_water',\n",
       " 'Sex_ratio_m_per_100_f,_2017',\n",
       " 'GDP_growth_rate_annual_%,_const._2005_prices',\n",
       " 'GDP_per_capita',\n",
       " 'GDP_per_capita']"
      ]
     },
     "execution_count": 77,
     "metadata": {},
     "output_type": "execute_result"
    }
   ],
   "source": [
    "helpful_cols_max"
   ]
  },
  {
   "cell_type": "markdown",
   "metadata": {},
   "source": [
    "Create a new dataframe with just the helpful columns in it"
   ]
  },
  {
   "cell_type": "code",
   "execution_count": 78,
   "metadata": {},
   "outputs": [],
   "source": [
    "X = X[helpful_cols_max]"
   ]
  },
  {
   "cell_type": "markdown",
   "metadata": {},
   "source": [
    "Run the classifier code to find the lowest MinMAD value, and display the MinMAD and which regressor was used"
   ]
  },
  {
   "cell_type": "code",
   "execution_count": 79,
   "metadata": {},
   "outputs": [
    {
     "name": "stdout",
     "output_type": "stream",
     "text": [
      "LinearRegression() with mad= -9.89363524478025\n",
      "ElasticNet() with mad= -9.897461955062806\n",
      "DecisionTreeRegressor() with mad= -9.877602613735323\n",
      "GradientBoostingRegressor with mad= -9.854831091937221\n",
      "MLPRegressor() with mad= -11.19796806589371\n",
      "***********************************************\n",
      "Best Regressor is... MLPRegressor()\n",
      "**********************\n",
      "With MAD Score -11.19796806589371\n"
     ]
    }
   ],
   "source": [
    "minMAD = 10000000\n",
    "for reg in regs:\n",
    "    kf = KFold(random_state=0,shuffle=True)\n",
    "    mad = sk.model_selection.cross_val_score(reg,X,Y,\\\n",
    "             cv=kf,scoring='neg_mean_absolute_error').mean()\n",
    "    # need the lowest scoring for mad\n",
    "    print (str(reg)[:25] + ' with mad= ' + str(mad) )\n",
    "    if mad < minMAD:\n",
    "        minMAD = mad\n",
    "        bestREG = reg\n",
    "        \n",
    "print('***********************************************')\n",
    "print ('Best Regressor is... ' + str(bestREG)[:25] )\n",
    "print('**********************')\n",
    "print ('With MAD Score ' + str(minMAD))"
   ]
  },
  {
   "cell_type": "markdown",
   "metadata": {},
   "source": [
    "Most of the time the helpful columns will produce a better result, but sometimes the original value produces a better result. Compare the 2 and output the best one:"
   ]
  },
  {
   "cell_type": "code",
   "execution_count": 80,
   "metadata": {},
   "outputs": [],
   "source": [
    "helpful_cols_regr = minMAD"
   ]
  },
  {
   "cell_type": "code",
   "execution_count": 81,
   "metadata": {},
   "outputs": [],
   "source": [
    "if helpful_cols_regr < lowest_min_MAD:\n",
    "    regr_final_answer = helpful_cols_regr\n",
    "else: \n",
    "    regr_final_answer = lowest_min_MAD"
   ]
  },
  {
   "cell_type": "code",
   "execution_count": 82,
   "metadata": {},
   "outputs": [
    {
     "data": {
      "text/plain": [
       "-11.19796806589371"
      ]
     },
     "execution_count": 82,
     "metadata": {},
     "output_type": "execute_result"
    }
   ],
   "source": [
    "regr_final_answer"
   ]
  },
  {
   "cell_type": "markdown",
   "metadata": {},
   "source": [
    "### Decision Tree"
   ]
  },
  {
   "cell_type": "code",
   "execution_count": 83,
   "metadata": {},
   "outputs": [],
   "source": [
    "import sklearn.tree\n",
    "import sklearn.tree as tree"
   ]
  },
  {
   "cell_type": "markdown",
   "metadata": {},
   "source": [
    "Since we changed the value of X for regression analysis, put it back to its original value throught he duplicate we made"
   ]
  },
  {
   "cell_type": "code",
   "execution_count": 84,
   "metadata": {},
   "outputs": [],
   "source": [
    "X = X2"
   ]
  },
  {
   "cell_type": "markdown",
   "metadata": {},
   "source": [
    "Fit the decision tree, then run the code to output a decision tree with 2 as its depth"
   ]
  },
  {
   "cell_type": "code",
   "execution_count": 85,
   "metadata": {},
   "outputs": [],
   "source": [
    "dt = sklearn.tree.DecisionTreeRegressor(max_depth = 2)"
   ]
  },
  {
   "cell_type": "code",
   "execution_count": 86,
   "metadata": {},
   "outputs": [
    {
     "data": {
      "text/plain": [
       "DecisionTreeRegressor(max_depth=2)"
      ]
     },
     "execution_count": 86,
     "metadata": {},
     "output_type": "execute_result"
    }
   ],
   "source": [
    "dt.fit(X,Y)\n"
   ]
  },
  {
   "cell_type": "code",
   "execution_count": 87,
   "metadata": {
    "scrolled": true
   },
   "outputs": [
    {
     "data": {
      "image/png": "[encoded data removed]",
      "text/plain": [
       "<IPython.core.display.Image object>"
      ]
     },
     "execution_count": 87,
     "metadata": {},
     "output_type": "execute_result"
    }
   ],
   "source": [
    "from IPython.display import Image  \n",
    "import pydotplus\n",
    "\n",
    "dt_feature_names = list(X.columns)\n",
    "dt_target_names = np.array(Y.unique(),dtype=np.string_) \n",
    "tree.export_graphviz(dt, out_file='tree.dot', \n",
    "    feature_names=dt_feature_names, class_names=dt_target_names,\n",
    "    filled=True)  \n",
    "graph = pydotplus.graph_from_dot_file('tree.dot')\n",
    "Image(graph.create_png())"
   ]
  },
  {
   "cell_type": "markdown",
   "metadata": {},
   "source": [
    "This decision tree shows that males are more likely to commit suicides than women are, with a difference in number of 18.8 and 5.2. For men, the biggest age divide is between rank 5 and 6 (above/below 75 years old), with a difference in value of 15.3 and 37.5. For women, the biggest age divide is between rank 4 and 5 (above/below 35), with a difference in value of 3 and 7.2. "
   ]
  }
 ],
 "metadata": {
  "kernelspec": {
   "display_name": "Python 3",
   "language": "python",
   "name": "python3"
  },
  "language_info": {
   "codemirror_mode": {
    "name": "ipython",
    "version": 3
   },
   "file_extension": ".py",
   "mimetype": "text/x-python",
   "name": "python",
   "nbconvert_exporter": "python",
   "pygments_lexer": "ipython3",
   "version": "3.7.8"
  }
 },
 "nbformat": 4,
 "nbformat_minor": 4
}
